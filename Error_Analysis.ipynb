{
 "nbformat": 4,
 "nbformat_minor": 0,
 "metadata": {
  "colab": {
   "name": "Error Analysis.ipynb",
   "provenance": [],
   "collapsed_sections": [],
   "toc_visible": true
  },
  "kernelspec": {
   "display_name": "Python 3",
   "name": "python3"
  },
  "language_info": {
   "name": "python"
  }
 },
 "cells": [
  {
   "cell_type": "code",
   "metadata": {
    "id": "IXaaeoc0nsw6"
   },
   "source": [
    "import pandas as pd\n",
    "import numpy as np\n",
    "import matplotlib.pyplot as plt\n",
    "import seaborn as sns\n",
    "from collections import Counter"
   ],
   "execution_count": null,
   "outputs": []
  },
  {
   "cell_type": "code",
   "source": [
    "!wget https: // raw.githubusercontent.com / quangdaist123 / PhoNER_COVID19_Error_Analysis / main / Output / df_error_types_phobert_gold_summary.csv"
   ],
   "metadata": {
    "colab": {
     "base_uri": "https://localhost:8080/"
    },
    "id": "4I_POlVvqmA2",
    "outputId": "2b072068-e103-4454-98c0-2f1ed0c75058"
   },
   "execution_count": null,
   "outputs": [
    {
     "output_type": "stream",
     "name": "stdout",
     "text": [
      "--2021-12-25 04:43:04--  https://raw.githubusercontent.com/quangdaist123/PhoNER_COVID19_Error_Analysis/main/Output/df_error_types_phobert_gold_summary.csv\n",
      "Resolving raw.githubusercontent.com (raw.githubusercontent.com)... 185.199.108.133, 185.199.109.133, 185.199.110.133, ...\n",
      "Connecting to raw.githubusercontent.com (raw.githubusercontent.com)|185.199.108.133|:443... connected.\n",
      "HTTP request sent, awaiting response... 200 OK\n",
      "Length: 410 [text/plain]\n",
      "Saving to: ‘df_error_types_phobert_gold_summary.csv’\n",
      "\n",
      "\r          df_error_   0%[                    ]       0  --.-KB/s               \rdf_error_types_phob 100%[===================>]     410  --.-KB/s    in 0s      \n",
      "\n",
      "2021-12-25 04:43:04 (17.0 MB/s) - ‘df_error_types_phobert_gold_summary.csv’ saved [410/410]\n",
      "\n"
     ]
    }
   ]
  },
  {
   "cell_type": "code",
   "source": [
    "!wget https: // raw.githubusercontent.com / quangdaist123 / PhoNER_COVID19_Error_Analysis / main / Output / df_error_types_bilstm_gold_summary.csv"
   ],
   "metadata": {
    "colab": {
     "base_uri": "https://localhost:8080/"
    },
    "id": "7Fdu8F5oTWVe",
    "outputId": "26084e8f-9534-46d3-ded7-6824f9de8770"
   },
   "execution_count": null,
   "outputs": [
    {
     "output_type": "stream",
     "name": "stdout",
     "text": [
      "--2021-12-25 04:43:06--  https://raw.githubusercontent.com/quangdaist123/PhoNER_COVID19_Error_Analysis/main/Output/df_error_types_bilstm_gold_summary.csv\n",
      "Resolving raw.githubusercontent.com (raw.githubusercontent.com)... 185.199.108.133, 185.199.109.133, 185.199.110.133, ...\n",
      "Connecting to raw.githubusercontent.com (raw.githubusercontent.com)|185.199.108.133|:443... connected.\n",
      "HTTP request sent, awaiting response... 200 OK\n",
      "Length: 423 [text/plain]\n",
      "Saving to: ‘df_error_types_bilstm_gold_summary.csv’\n",
      "\n",
      "\r          df_error_   0%[                    ]       0  --.-KB/s               \rdf_error_types_bils 100%[===================>]     423  --.-KB/s    in 0s      \n",
      "\n",
      "2021-12-25 04:43:06 (31.9 MB/s) - ‘df_error_types_bilstm_gold_summary.csv’ saved [423/423]\n",
      "\n"
     ]
    }
   ]
  },
  {
   "cell_type": "markdown",
   "source": [
    "#PhoBERT"
   ],
   "metadata": {
    "id": "cROt_kgTEEte"
   }
  },
  {
   "cell_type": "code",
   "source": [
    "df_final = pd.read_csv(\"/content/df_error_types_phobert_gold_summary.csv\")\n",
    "\n",
    "colors_error_types = {'Wrong Range': 'C0',\n",
    "                      'No Extraction': 'C1',\n",
    "                      'Wrong Tag': 'C2',\n",
    "                      'Wrong Range and tag': 'C3',\n",
    "                      'No Annotation': 'C4'\n",
    "                      }\n",
    "\n",
    "colors = {\n",
    "        'DATE': '#EA2F86',  # https://www.schemecolor.com/bright-rainbow-gradient.php\n",
    "        'GENDER': '#F09C0A',\n",
    "        'JOB': '#FAE000',\n",
    "        'LOCATION': '#93E223',\n",
    "        'NAME': '#4070D3',\n",
    "        'AGE': '#9925be',\n",
    "        'O': '#7B7D70',  # màu gray ở https://www.schemecolor.com/rural-stay.php\n",
    "        'ORGANIZATION': '#493C9E',\n",
    "        'PATIENT_ID': '#ED3D07',  # màu đỏ https://www.schemecolor.com/bright-summer-beach.php\n",
    "        'SYMPTOM_AND_DISEASE': '#F2E8D8',  # https://www.schemecolor.com/pastels-for-men.php\n",
    "        'TRANSPORTATION': '#C4A69B'}\n"
   ],
   "metadata": {
    "id": "bDI-u9eJIAYa"
   },
   "execution_count": null,
   "outputs": []
  },
  {
   "cell_type": "markdown",
   "source": [
    "##Tổng hợp"
   ],
   "metadata": {
    "id": "w7vjR-8FD8Mw"
   }
  },
  {
   "cell_type": "code",
   "source": [
    "df_all = df_final.drop([0, 1, 2, 3, 4, 5, 6, 7, 8, 9, 10])"
   ],
   "metadata": {
    "id": "lt-dcBiID-1n"
   },
   "execution_count": null,
   "outputs": []
  },
  {
   "cell_type": "code",
   "source": [
    "df_all"
   ],
   "metadata": {
    "colab": {
     "base_uri": "https://localhost:8080/",
     "height": 49
    },
    "id": "fhAxe9hXHeyq",
    "outputId": "7d4ca969-5b71-42fa-803a-5341087a6fb1"
   },
   "execution_count": null,
   "outputs": [
    {
     "output_type": "execute_result",
     "data": {
      "text/html": [
       "\n",
       "  <div id=\"df-41becdc5-f83a-476a-925f-f58ec702503b\">\n",
       "    <div class=\"colab-df-container\">\n",
       "      <div>\n",
       "<style scoped>\n",
       "    .dataframe tbody tr th:only-of-type {\n",
       "        vertical-align: middle;\n",
       "    }\n",
       "\n",
       "    .dataframe tbody tr th {\n",
       "        vertical-align: top;\n",
       "    }\n",
       "\n",
       "    .dataframe thead th {\n",
       "        text-align: right;\n",
       "    }\n",
       "</style>\n",
       "<table border=\"1\" class=\"dataframe\">\n",
       "  <thead>\n",
       "    <tr style=\"text-align: right;\">\n",
       "      <th></th>\n",
       "      <th>Tag</th>\n",
       "      <th>Total</th>\n",
       "      <th>Errors</th>\n",
       "      <th>No Extraction</th>\n",
       "      <th>No Annotation</th>\n",
       "      <th>Wrong Range</th>\n",
       "      <th>Wrong Tag</th>\n",
       "      <th>Wrong Range and tag</th>\n",
       "    </tr>\n",
       "  </thead>\n",
       "  <tbody>\n",
       "  </tbody>\n",
       "</table>\n",
       "</div>\n",
       "      <button class=\"colab-df-convert\" onclick=\"convertToInteractive('df-41becdc5-f83a-476a-925f-f58ec702503b')\"\n",
       "              title=\"Convert this dataframe to an interactive table.\"\n",
       "              style=\"display:none;\">\n",
       "        \n",
       "  <svg xmlns=\"http://www.w3.org/2000/svg\" height=\"24px\"viewBox=\"0 0 24 24\"\n",
       "       width=\"24px\">\n",
       "    <path d=\"M0 0h24v24H0V0z\" fill=\"none\"/>\n",
       "    <path d=\"M18.56 5.44l.94 2.06.94-2.06 2.06-.94-2.06-.94-.94-2.06-.94 2.06-2.06.94zm-11 1L8.5 8.5l.94-2.06 2.06-.94-2.06-.94L8.5 2.5l-.94 2.06-2.06.94zm10 10l.94 2.06.94-2.06 2.06-.94-2.06-.94-.94-2.06-.94 2.06-2.06.94z\"/><path d=\"M17.41 7.96l-1.37-1.37c-.4-.4-.92-.59-1.43-.59-.52 0-1.04.2-1.43.59L10.3 9.45l-7.72 7.72c-.78.78-.78 2.05 0 2.83L4 21.41c.39.39.9.59 1.41.59.51 0 1.02-.2 1.41-.59l7.78-7.78 2.81-2.81c.8-.78.8-2.07 0-2.86zM5.41 20L4 18.59l7.72-7.72 1.47 1.35L5.41 20z\"/>\n",
       "  </svg>\n",
       "      </button>\n",
       "      \n",
       "  <style>\n",
       "    .colab-df-container {\n",
       "      display:flex;\n",
       "      flex-wrap:wrap;\n",
       "      gap: 12px;\n",
       "    }\n",
       "\n",
       "    .colab-df-convert {\n",
       "      background-color: #E8F0FE;\n",
       "      border: none;\n",
       "      border-radius: 50%;\n",
       "      cursor: pointer;\n",
       "      display: none;\n",
       "      fill: #1967D2;\n",
       "      height: 32px;\n",
       "      padding: 0 0 0 0;\n",
       "      width: 32px;\n",
       "    }\n",
       "\n",
       "    .colab-df-convert:hover {\n",
       "      background-color: #E2EBFA;\n",
       "      box-shadow: 0px 1px 2px rgba(60, 64, 67, 0.3), 0px 1px 3px 1px rgba(60, 64, 67, 0.15);\n",
       "      fill: #174EA6;\n",
       "    }\n",
       "\n",
       "    [theme=dark] .colab-df-convert {\n",
       "      background-color: #3B4455;\n",
       "      fill: #D2E3FC;\n",
       "    }\n",
       "\n",
       "    [theme=dark] .colab-df-convert:hover {\n",
       "      background-color: #434B5C;\n",
       "      box-shadow: 0px 1px 3px 1px rgba(0, 0, 0, 0.15);\n",
       "      filter: drop-shadow(0px 1px 2px rgba(0, 0, 0, 0.3));\n",
       "      fill: #FFFFFF;\n",
       "    }\n",
       "  </style>\n",
       "\n",
       "      <script>\n",
       "        const buttonEl =\n",
       "          document.querySelector('#df-41becdc5-f83a-476a-925f-f58ec702503b button.colab-df-convert');\n",
       "        buttonEl.style.display =\n",
       "          google.colab.kernel.accessAllowed ? 'block' : 'none';\n",
       "\n",
       "        async function convertToInteractive(key) {\n",
       "          const element = document.querySelector('#df-41becdc5-f83a-476a-925f-f58ec702503b');\n",
       "          const dataTable =\n",
       "            await google.colab.kernel.invokeFunction('convertToInteractive',\n",
       "                                                     [key], {});\n",
       "          if (!dataTable) return;\n",
       "\n",
       "          const docLinkHtml = 'Like what you see? Visit the ' +\n",
       "            '<a target=\"_blank\" href=https://colab.research.google.com/notebooks/data_table.ipynb>data table notebook</a>'\n",
       "            + ' to learn more about interactive tables.';\n",
       "          element.innerHTML = '';\n",
       "          dataTable['output_type'] = 'display_data';\n",
       "          await google.colab.output.renderOutput(dataTable, element);\n",
       "          const docLink = document.createElement('div');\n",
       "          docLink.innerHTML = docLinkHtml;\n",
       "          element.appendChild(docLink);\n",
       "        }\n",
       "      </script>\n",
       "    </div>\n",
       "  </div>\n",
       "  "
      ],
      "text/plain": [
       "Empty DataFrame\n",
       "Columns: [Tag, Total, Errors, No Extraction, No Annotation, Wrong Range, Wrong Tag, Wrong Range and tag]\n",
       "Index: []"
      ]
     },
     "metadata": {},
     "execution_count": 20
    }
   ]
  },
  {
   "cell_type": "code",
   "source": [
    "name = pd.Series([\"No Extraction\", \"Wrong Range\", \"No Annotation\", \"Wrong Tag\", \"Wrong Range and tag\"])\n",
    "value = pd.Series([494, 281, 181, 125, 53])"
   ],
   "metadata": {
    "id": "LdD32mrYIfAY"
   },
   "execution_count": null,
   "outputs": []
  },
  {
   "cell_type": "code",
   "source": [
    "labels = [f'{l}, {s * 100 / (1134):0.1f}%' for l, s in zip(name, value)]"
   ],
   "metadata": {
    "id": "wHky2ziSHjLH"
   },
   "execution_count": null,
   "outputs": []
  },
  {
   "cell_type": "code",
   "source": [
    "import matplotlib.patches\n",
    "\n",
    "label = name.values.tolist()\n",
    "plt.gca().axis(\"equal\")\n",
    "pie = plt.pie([494, 281, 181, 125, 53], startangle=90, wedgeprops={'linewidth': 1, \"edgecolor\": \"k\"}, colors=[colors_error_types[key] for key in label])\n",
    "handles = []\n",
    "\n",
    "for i, l in enumerate(labels):\n",
    "    handles.append(matplotlib.patches.Patch(color=plt.cm.Set3((i) / 8.), label=l))\n",
    "plt.legend(labels, bbox_to_anchor=(1, 0), loc=\"lower right\",\n",
    "           bbox_transform=plt.gcf().transFigure)\n",
    "#plt.gcf().text(0.93,0.04,\"* out of competition since 2006\", ha=\"right\")\n",
    "#plt.title(\"Error percentage of No_extraction of PHOBERT\",loc=\"center\",fontsize=17)\n",
    "plt.subplots_adjust(left=0.1, bottom=0.1, right=0.54)\n",
    "plt.savefig('all_error_Bi.png', bbox_inches='tight', dpi=300)"
   ],
   "metadata": {
    "colab": {
     "base_uri": "https://localhost:8080/",
     "height": 279
    },
    "id": "sMo0NF8tLBfo",
    "outputId": "5c706602-0e05-479a-8a4f-7742c84110c8"
   },
   "execution_count": null,
   "outputs": [
    {
     "output_type": "display_data",
     "data": {
      "image/png": "[encoded data removed]",
      "text/plain": [
       "<Figure size 432x288 with 1 Axes>"
      ]
     },
     "metadata": {}
    }
   ]
  },
  {
   "cell_type": "code",
   "source": [
    "df_final"
   ],
   "metadata": {
    "colab": {
     "base_uri": "https://localhost:8080/",
     "height": 434
    },
    "id": "fRjb83oRxRqJ",
    "outputId": "8c6b685e-1304-47b7-ad34-d7980b8cead3"
   },
   "execution_count": null,
   "outputs": [
    {
     "output_type": "execute_result",
     "data": {
      "text/html": [
       "\n",
       "  <div id=\"df-56880a5d-15c9-471f-a9d4-e09b4ca21cf6\">\n",
       "    <div class=\"colab-df-container\">\n",
       "      <div>\n",
       "<style scoped>\n",
       "    .dataframe tbody tr th:only-of-type {\n",
       "        vertical-align: middle;\n",
       "    }\n",
       "\n",
       "    .dataframe tbody tr th {\n",
       "        vertical-align: top;\n",
       "    }\n",
       "\n",
       "    .dataframe thead th {\n",
       "        text-align: right;\n",
       "    }\n",
       "</style>\n",
       "<table border=\"1\" class=\"dataframe\">\n",
       "  <thead>\n",
       "    <tr style=\"text-align: right;\">\n",
       "      <th></th>\n",
       "      <th>Tag</th>\n",
       "      <th>Total</th>\n",
       "      <th>Errors</th>\n",
       "      <th>No Extraction</th>\n",
       "      <th>No Annotation</th>\n",
       "      <th>Wrong Range</th>\n",
       "      <th>Wrong Tag</th>\n",
       "      <th>Wrong Range and tag</th>\n",
       "    </tr>\n",
       "  </thead>\n",
       "  <tbody>\n",
       "    <tr>\n",
       "      <th>0</th>\n",
       "      <td>PATIENT_ID</td>\n",
       "      <td>2005</td>\n",
       "      <td>32</td>\n",
       "      <td>6</td>\n",
       "      <td>11</td>\n",
       "      <td>21</td>\n",
       "      <td>4</td>\n",
       "      <td>1</td>\n",
       "    </tr>\n",
       "    <tr>\n",
       "      <th>1</th>\n",
       "      <td>NAME</td>\n",
       "      <td>318</td>\n",
       "      <td>15</td>\n",
       "      <td>12</td>\n",
       "      <td>10</td>\n",
       "      <td>2</td>\n",
       "      <td>1</td>\n",
       "      <td>0</td>\n",
       "    </tr>\n",
       "    <tr>\n",
       "      <th>2</th>\n",
       "      <td>AGE</td>\n",
       "      <td>582</td>\n",
       "      <td>12</td>\n",
       "      <td>5</td>\n",
       "      <td>12</td>\n",
       "      <td>1</td>\n",
       "      <td>4</td>\n",
       "      <td>2</td>\n",
       "    </tr>\n",
       "    <tr>\n",
       "      <th>3</th>\n",
       "      <td>GENDER</td>\n",
       "      <td>462</td>\n",
       "      <td>10</td>\n",
       "      <td>9</td>\n",
       "      <td>9</td>\n",
       "      <td>0</td>\n",
       "      <td>1</td>\n",
       "      <td>0</td>\n",
       "    </tr>\n",
       "    <tr>\n",
       "      <th>4</th>\n",
       "      <td>JOB</td>\n",
       "      <td>173</td>\n",
       "      <td>32</td>\n",
       "      <td>18</td>\n",
       "      <td>32</td>\n",
       "      <td>12</td>\n",
       "      <td>2</td>\n",
       "      <td>0</td>\n",
       "    </tr>\n",
       "    <tr>\n",
       "      <th>5</th>\n",
       "      <td>LOCATION</td>\n",
       "      <td>4441</td>\n",
       "      <td>186</td>\n",
       "      <td>30</td>\n",
       "      <td>35</td>\n",
       "      <td>110</td>\n",
       "      <td>41</td>\n",
       "      <td>5</td>\n",
       "    </tr>\n",
       "    <tr>\n",
       "      <th>6</th>\n",
       "      <td>ORGANIZATION</td>\n",
       "      <td>771</td>\n",
       "      <td>70</td>\n",
       "      <td>11</td>\n",
       "      <td>35</td>\n",
       "      <td>14</td>\n",
       "      <td>39</td>\n",
       "      <td>6</td>\n",
       "    </tr>\n",
       "    <tr>\n",
       "      <th>7</th>\n",
       "      <td>SYMPTOM_AND_DISEASE</td>\n",
       "      <td>1136</td>\n",
       "      <td>146</td>\n",
       "      <td>76</td>\n",
       "      <td>37</td>\n",
       "      <td>69</td>\n",
       "      <td>1</td>\n",
       "      <td>0</td>\n",
       "    </tr>\n",
       "    <tr>\n",
       "      <th>8</th>\n",
       "      <td>TRANSPORTATION</td>\n",
       "      <td>193</td>\n",
       "      <td>1</td>\n",
       "      <td>0</td>\n",
       "      <td>0</td>\n",
       "      <td>0</td>\n",
       "      <td>1</td>\n",
       "      <td>0</td>\n",
       "    </tr>\n",
       "    <tr>\n",
       "      <th>9</th>\n",
       "      <td>DATE</td>\n",
       "      <td>1654</td>\n",
       "      <td>12</td>\n",
       "      <td>2</td>\n",
       "      <td>14</td>\n",
       "      <td>6</td>\n",
       "      <td>4</td>\n",
       "      <td>0</td>\n",
       "    </tr>\n",
       "    <tr>\n",
       "      <th>10</th>\n",
       "      <td>Total</td>\n",
       "      <td>11735</td>\n",
       "      <td>711</td>\n",
       "      <td>169</td>\n",
       "      <td>195</td>\n",
       "      <td>235</td>\n",
       "      <td>98</td>\n",
       "      <td>14</td>\n",
       "    </tr>\n",
       "  </tbody>\n",
       "</table>\n",
       "</div>\n",
       "      <button class=\"colab-df-convert\" onclick=\"convertToInteractive('df-56880a5d-15c9-471f-a9d4-e09b4ca21cf6')\"\n",
       "              title=\"Convert this dataframe to an interactive table.\"\n",
       "              style=\"display:none;\">\n",
       "        \n",
       "  <svg xmlns=\"http://www.w3.org/2000/svg\" height=\"24px\"viewBox=\"0 0 24 24\"\n",
       "       width=\"24px\">\n",
       "    <path d=\"M0 0h24v24H0V0z\" fill=\"none\"/>\n",
       "    <path d=\"M18.56 5.44l.94 2.06.94-2.06 2.06-.94-2.06-.94-.94-2.06-.94 2.06-2.06.94zm-11 1L8.5 8.5l.94-2.06 2.06-.94-2.06-.94L8.5 2.5l-.94 2.06-2.06.94zm10 10l.94 2.06.94-2.06 2.06-.94-2.06-.94-.94-2.06-.94 2.06-2.06.94z\"/><path d=\"M17.41 7.96l-1.37-1.37c-.4-.4-.92-.59-1.43-.59-.52 0-1.04.2-1.43.59L10.3 9.45l-7.72 7.72c-.78.78-.78 2.05 0 2.83L4 21.41c.39.39.9.59 1.41.59.51 0 1.02-.2 1.41-.59l7.78-7.78 2.81-2.81c.8-.78.8-2.07 0-2.86zM5.41 20L4 18.59l7.72-7.72 1.47 1.35L5.41 20z\"/>\n",
       "  </svg>\n",
       "      </button>\n",
       "      \n",
       "  <style>\n",
       "    .colab-df-container {\n",
       "      display:flex;\n",
       "      flex-wrap:wrap;\n",
       "      gap: 12px;\n",
       "    }\n",
       "\n",
       "    .colab-df-convert {\n",
       "      background-color: #E8F0FE;\n",
       "      border: none;\n",
       "      border-radius: 50%;\n",
       "      cursor: pointer;\n",
       "      display: none;\n",
       "      fill: #1967D2;\n",
       "      height: 32px;\n",
       "      padding: 0 0 0 0;\n",
       "      width: 32px;\n",
       "    }\n",
       "\n",
       "    .colab-df-convert:hover {\n",
       "      background-color: #E2EBFA;\n",
       "      box-shadow: 0px 1px 2px rgba(60, 64, 67, 0.3), 0px 1px 3px 1px rgba(60, 64, 67, 0.15);\n",
       "      fill: #174EA6;\n",
       "    }\n",
       "\n",
       "    [theme=dark] .colab-df-convert {\n",
       "      background-color: #3B4455;\n",
       "      fill: #D2E3FC;\n",
       "    }\n",
       "\n",
       "    [theme=dark] .colab-df-convert:hover {\n",
       "      background-color: #434B5C;\n",
       "      box-shadow: 0px 1px 3px 1px rgba(0, 0, 0, 0.15);\n",
       "      filter: drop-shadow(0px 1px 2px rgba(0, 0, 0, 0.3));\n",
       "      fill: #FFFFFF;\n",
       "    }\n",
       "  </style>\n",
       "\n",
       "      <script>\n",
       "        const buttonEl =\n",
       "          document.querySelector('#df-56880a5d-15c9-471f-a9d4-e09b4ca21cf6 button.colab-df-convert');\n",
       "        buttonEl.style.display =\n",
       "          google.colab.kernel.accessAllowed ? 'block' : 'none';\n",
       "\n",
       "        async function convertToInteractive(key) {\n",
       "          const element = document.querySelector('#df-56880a5d-15c9-471f-a9d4-e09b4ca21cf6');\n",
       "          const dataTable =\n",
       "            await google.colab.kernel.invokeFunction('convertToInteractive',\n",
       "                                                     [key], {});\n",
       "          if (!dataTable) return;\n",
       "\n",
       "          const docLinkHtml = 'Like what you see? Visit the ' +\n",
       "            '<a target=\"_blank\" href=https://colab.research.google.com/notebooks/data_table.ipynb>data table notebook</a>'\n",
       "            + ' to learn more about interactive tables.';\n",
       "          element.innerHTML = '';\n",
       "          dataTable['output_type'] = 'display_data';\n",
       "          await google.colab.output.renderOutput(dataTable, element);\n",
       "          const docLink = document.createElement('div');\n",
       "          docLink.innerHTML = docLinkHtml;\n",
       "          element.appendChild(docLink);\n",
       "        }\n",
       "      </script>\n",
       "    </div>\n",
       "  </div>\n",
       "  "
      ],
      "text/plain": [
       "                    Tag  Total  ...  Wrong Tag  Wrong Range and tag\n",
       "0            PATIENT_ID   2005  ...          4                    1\n",
       "1                  NAME    318  ...          1                    0\n",
       "2                   AGE    582  ...          4                    2\n",
       "3                GENDER    462  ...          1                    0\n",
       "4                   JOB    173  ...          2                    0\n",
       "5              LOCATION   4441  ...         41                    5\n",
       "6          ORGANIZATION    771  ...         39                    6\n",
       "7   SYMPTOM_AND_DISEASE   1136  ...          1                    0\n",
       "8        TRANSPORTATION    193  ...          1                    0\n",
       "9                  DATE   1654  ...          4                    0\n",
       "10                Total  11735  ...         98                   14\n",
       "\n",
       "[11 rows x 8 columns]"
      ]
     },
     "metadata": {},
     "execution_count": 24
    }
   ]
  },
  {
   "cell_type": "markdown",
   "source": [
    "##No Annotation"
   ],
   "metadata": {
    "id": "fh-PhFEsxG7p"
   }
  },
  {
   "cell_type": "code",
   "source": [
    "df_noan = df_final[[\"Tag\", \"No Annotation\"]]\n",
    "df_noan"
   ],
   "metadata": {
    "colab": {
     "base_uri": "https://localhost:8080/",
     "height": 390
    },
    "id": "7UbuKd8HxLgU",
    "outputId": "af1113a6-b1bf-4760-eae6-b5bd213603e1"
   },
   "execution_count": null,
   "outputs": [
    {
     "output_type": "execute_result",
     "data": {
      "text/html": [
       "\n",
       "  <div id=\"df-32f7055a-0f8c-4892-86c3-408d21e5f52b\">\n",
       "    <div class=\"colab-df-container\">\n",
       "      <div>\n",
       "<style scoped>\n",
       "    .dataframe tbody tr th:only-of-type {\n",
       "        vertical-align: middle;\n",
       "    }\n",
       "\n",
       "    .dataframe tbody tr th {\n",
       "        vertical-align: top;\n",
       "    }\n",
       "\n",
       "    .dataframe thead th {\n",
       "        text-align: right;\n",
       "    }\n",
       "</style>\n",
       "<table border=\"1\" class=\"dataframe\">\n",
       "  <thead>\n",
       "    <tr style=\"text-align: right;\">\n",
       "      <th></th>\n",
       "      <th>Tag</th>\n",
       "      <th>No Annotation</th>\n",
       "    </tr>\n",
       "  </thead>\n",
       "  <tbody>\n",
       "    <tr>\n",
       "      <th>0</th>\n",
       "      <td>PATIENT_ID</td>\n",
       "      <td>11</td>\n",
       "    </tr>\n",
       "    <tr>\n",
       "      <th>1</th>\n",
       "      <td>NAME</td>\n",
       "      <td>10</td>\n",
       "    </tr>\n",
       "    <tr>\n",
       "      <th>2</th>\n",
       "      <td>AGE</td>\n",
       "      <td>12</td>\n",
       "    </tr>\n",
       "    <tr>\n",
       "      <th>3</th>\n",
       "      <td>GENDER</td>\n",
       "      <td>9</td>\n",
       "    </tr>\n",
       "    <tr>\n",
       "      <th>4</th>\n",
       "      <td>JOB</td>\n",
       "      <td>32</td>\n",
       "    </tr>\n",
       "    <tr>\n",
       "      <th>5</th>\n",
       "      <td>LOCATION</td>\n",
       "      <td>35</td>\n",
       "    </tr>\n",
       "    <tr>\n",
       "      <th>6</th>\n",
       "      <td>ORGANIZATION</td>\n",
       "      <td>35</td>\n",
       "    </tr>\n",
       "    <tr>\n",
       "      <th>7</th>\n",
       "      <td>SYMPTOM_AND_DISEASE</td>\n",
       "      <td>37</td>\n",
       "    </tr>\n",
       "    <tr>\n",
       "      <th>8</th>\n",
       "      <td>TRANSPORTATION</td>\n",
       "      <td>0</td>\n",
       "    </tr>\n",
       "    <tr>\n",
       "      <th>9</th>\n",
       "      <td>DATE</td>\n",
       "      <td>14</td>\n",
       "    </tr>\n",
       "    <tr>\n",
       "      <th>10</th>\n",
       "      <td>Total</td>\n",
       "      <td>195</td>\n",
       "    </tr>\n",
       "  </tbody>\n",
       "</table>\n",
       "</div>\n",
       "      <button class=\"colab-df-convert\" onclick=\"convertToInteractive('df-32f7055a-0f8c-4892-86c3-408d21e5f52b')\"\n",
       "              title=\"Convert this dataframe to an interactive table.\"\n",
       "              style=\"display:none;\">\n",
       "        \n",
       "  <svg xmlns=\"http://www.w3.org/2000/svg\" height=\"24px\"viewBox=\"0 0 24 24\"\n",
       "       width=\"24px\">\n",
       "    <path d=\"M0 0h24v24H0V0z\" fill=\"none\"/>\n",
       "    <path d=\"M18.56 5.44l.94 2.06.94-2.06 2.06-.94-2.06-.94-.94-2.06-.94 2.06-2.06.94zm-11 1L8.5 8.5l.94-2.06 2.06-.94-2.06-.94L8.5 2.5l-.94 2.06-2.06.94zm10 10l.94 2.06.94-2.06 2.06-.94-2.06-.94-.94-2.06-.94 2.06-2.06.94z\"/><path d=\"M17.41 7.96l-1.37-1.37c-.4-.4-.92-.59-1.43-.59-.52 0-1.04.2-1.43.59L10.3 9.45l-7.72 7.72c-.78.78-.78 2.05 0 2.83L4 21.41c.39.39.9.59 1.41.59.51 0 1.02-.2 1.41-.59l7.78-7.78 2.81-2.81c.8-.78.8-2.07 0-2.86zM5.41 20L4 18.59l7.72-7.72 1.47 1.35L5.41 20z\"/>\n",
       "  </svg>\n",
       "      </button>\n",
       "      \n",
       "  <style>\n",
       "    .colab-df-container {\n",
       "      display:flex;\n",
       "      flex-wrap:wrap;\n",
       "      gap: 12px;\n",
       "    }\n",
       "\n",
       "    .colab-df-convert {\n",
       "      background-color: #E8F0FE;\n",
       "      border: none;\n",
       "      border-radius: 50%;\n",
       "      cursor: pointer;\n",
       "      display: none;\n",
       "      fill: #1967D2;\n",
       "      height: 32px;\n",
       "      padding: 0 0 0 0;\n",
       "      width: 32px;\n",
       "    }\n",
       "\n",
       "    .colab-df-convert:hover {\n",
       "      background-color: #E2EBFA;\n",
       "      box-shadow: 0px 1px 2px rgba(60, 64, 67, 0.3), 0px 1px 3px 1px rgba(60, 64, 67, 0.15);\n",
       "      fill: #174EA6;\n",
       "    }\n",
       "\n",
       "    [theme=dark] .colab-df-convert {\n",
       "      background-color: #3B4455;\n",
       "      fill: #D2E3FC;\n",
       "    }\n",
       "\n",
       "    [theme=dark] .colab-df-convert:hover {\n",
       "      background-color: #434B5C;\n",
       "      box-shadow: 0px 1px 3px 1px rgba(0, 0, 0, 0.15);\n",
       "      filter: drop-shadow(0px 1px 2px rgba(0, 0, 0, 0.3));\n",
       "      fill: #FFFFFF;\n",
       "    }\n",
       "  </style>\n",
       "\n",
       "      <script>\n",
       "        const buttonEl =\n",
       "          document.querySelector('#df-32f7055a-0f8c-4892-86c3-408d21e5f52b button.colab-df-convert');\n",
       "        buttonEl.style.display =\n",
       "          google.colab.kernel.accessAllowed ? 'block' : 'none';\n",
       "\n",
       "        async function convertToInteractive(key) {\n",
       "          const element = document.querySelector('#df-32f7055a-0f8c-4892-86c3-408d21e5f52b');\n",
       "          const dataTable =\n",
       "            await google.colab.kernel.invokeFunction('convertToInteractive',\n",
       "                                                     [key], {});\n",
       "          if (!dataTable) return;\n",
       "\n",
       "          const docLinkHtml = 'Like what you see? Visit the ' +\n",
       "            '<a target=\"_blank\" href=https://colab.research.google.com/notebooks/data_table.ipynb>data table notebook</a>'\n",
       "            + ' to learn more about interactive tables.';\n",
       "          element.innerHTML = '';\n",
       "          dataTable['output_type'] = 'display_data';\n",
       "          await google.colab.output.renderOutput(dataTable, element);\n",
       "          const docLink = document.createElement('div');\n",
       "          docLink.innerHTML = docLinkHtml;\n",
       "          element.appendChild(docLink);\n",
       "        }\n",
       "      </script>\n",
       "    </div>\n",
       "  </div>\n",
       "  "
      ],
      "text/plain": [
       "                    Tag  No Annotation\n",
       "0            PATIENT_ID             11\n",
       "1                  NAME             10\n",
       "2                   AGE             12\n",
       "3                GENDER              9\n",
       "4                   JOB             32\n",
       "5              LOCATION             35\n",
       "6          ORGANIZATION             35\n",
       "7   SYMPTOM_AND_DISEASE             37\n",
       "8        TRANSPORTATION              0\n",
       "9                  DATE             14\n",
       "10                Total            195"
      ]
     },
     "metadata": {},
     "execution_count": 25
    }
   ]
  },
  {
   "cell_type": "code",
   "source": [
    "df_noan.sort_values(\"No Annotation\", ascending=False, inplace=True, ignore_index=True)\n",
    "no_an_sum = df_noan.iloc[0, -1]\n",
    "df_noan.drop(0, inplace=True)"
   ],
   "metadata": {
    "colab": {
     "base_uri": "https://localhost:8080/"
    },
    "id": "VLZjGoSwxaGX",
    "outputId": "e4a329b1-3475-4cf3-afb0-3766efad378a"
   },
   "execution_count": null,
   "outputs": [
    {
     "output_type": "stream",
     "name": "stderr",
     "text": [
      "/usr/local/lib/python3.7/dist-packages/ipykernel_launcher.py:1: SettingWithCopyWarning: \n",
      "A value is trying to be set on a copy of a slice from a DataFrame\n",
      "\n",
      "See the caveats in the documentation: https://pandas.pydata.org/pandas-docs/stable/user_guide/indexing.html#returning-a-view-versus-a-copy\n",
      "  \"\"\"Entry point for launching an IPython kernel.\n",
      "/usr/local/lib/python3.7/dist-packages/pandas/core/frame.py:4174: SettingWithCopyWarning: \n",
      "A value is trying to be set on a copy of a slice from a DataFrame\n",
      "\n",
      "See the caveats in the documentation: https://pandas.pydata.org/pandas-docs/stable/user_guide/indexing.html#returning-a-view-versus-a-copy\n",
      "  errors=errors,\n"
     ]
    }
   ]
  },
  {
   "cell_type": "code",
   "source": [
    "labels = [f'{l}, {s * 100 / (no_an_sum):0.1f}%' for l, s in zip(df_noan[\"Tag\"], df_noan[\"No Annotation\"])]"
   ],
   "metadata": {
    "id": "xKueMPEpxnwo"
   },
   "execution_count": null,
   "outputs": []
  },
  {
   "cell_type": "code",
   "source": [
    "import matplotlib.patches\n",
    "\n",
    "plt.gca().axis(\"equal\")\n",
    "\n",
    "temp_labels = df_noan['Tag'].values.tolist()\n",
    "pie = plt.pie(df_noan[\"No Annotation\"], startangle=90, wedgeprops={'linewidth': 1, \"edgecolor\": \"k\"}, colors=[colors[key] for key in temp_labels])\n",
    "handles = []\n",
    "\n",
    "for i, l in enumerate(labels):\n",
    "    handles.append(matplotlib.patches.Patch(color=plt.cm.Set3((i) / 8.), label=l))\n",
    "plt.legend(labels, bbox_to_anchor=(1, 0), loc=\"lower right\",\n",
    "           bbox_transform=plt.gcf().transFigure)\n",
    "#plt.gcf().text(0.93,0.04,\"* out of competition since 2006\", ha=\"right\")\n",
    "#plt.title(\"Error percentage of No_extraction of PHOBERT\",loc=\"center\",fontsize=17)\n",
    "plt.subplots_adjust(left=0.1, bottom=0.1, right=0.54)\n",
    "plt.savefig('no_annotation_BI.png', bbox_inches='tight', dpi=300)"
   ],
   "metadata": {
    "colab": {
     "base_uri": "https://localhost:8080/",
     "height": 279
    },
    "id": "JLw1qeuNxwZF",
    "outputId": "a5cb0510-fb21-4565-e834-a2fc0a6a220c"
   },
   "execution_count": null,
   "outputs": [
    {
     "output_type": "display_data",
     "data": {
      "image/png": "[encoded data removed]",
      "text/plain": [
       "<Figure size 432x288 with 1 Axes>"
      ]
     },
     "metadata": {}
    }
   ]
  },
  {
   "cell_type": "markdown",
   "source": [
    "##No Extraction"
   ],
   "metadata": {
    "id": "q9mXtTtXH9ki"
   }
  },
  {
   "cell_type": "code",
   "source": [
    "df_noex = df_final[[\"Tag\", \"No Extraction\"]]\n",
    "df_noex"
   ],
   "metadata": {
    "colab": {
     "base_uri": "https://localhost:8080/",
     "height": 390
    },
    "id": "6H_P3X_7_jEv",
    "outputId": "ca545a21-b9bc-4778-e0a6-fdef1258e143"
   },
   "execution_count": null,
   "outputs": [
    {
     "output_type": "execute_result",
     "data": {
      "text/html": [
       "\n",
       "  <div id=\"df-8164a040-11c0-45a8-b312-84561cf70900\">\n",
       "    <div class=\"colab-df-container\">\n",
       "      <div>\n",
       "<style scoped>\n",
       "    .dataframe tbody tr th:only-of-type {\n",
       "        vertical-align: middle;\n",
       "    }\n",
       "\n",
       "    .dataframe tbody tr th {\n",
       "        vertical-align: top;\n",
       "    }\n",
       "\n",
       "    .dataframe thead th {\n",
       "        text-align: right;\n",
       "    }\n",
       "</style>\n",
       "<table border=\"1\" class=\"dataframe\">\n",
       "  <thead>\n",
       "    <tr style=\"text-align: right;\">\n",
       "      <th></th>\n",
       "      <th>Tag</th>\n",
       "      <th>No Extraction</th>\n",
       "    </tr>\n",
       "  </thead>\n",
       "  <tbody>\n",
       "    <tr>\n",
       "      <th>0</th>\n",
       "      <td>PATIENT_ID</td>\n",
       "      <td>6</td>\n",
       "    </tr>\n",
       "    <tr>\n",
       "      <th>1</th>\n",
       "      <td>NAME</td>\n",
       "      <td>12</td>\n",
       "    </tr>\n",
       "    <tr>\n",
       "      <th>2</th>\n",
       "      <td>AGE</td>\n",
       "      <td>5</td>\n",
       "    </tr>\n",
       "    <tr>\n",
       "      <th>3</th>\n",
       "      <td>GENDER</td>\n",
       "      <td>9</td>\n",
       "    </tr>\n",
       "    <tr>\n",
       "      <th>4</th>\n",
       "      <td>JOB</td>\n",
       "      <td>18</td>\n",
       "    </tr>\n",
       "    <tr>\n",
       "      <th>5</th>\n",
       "      <td>LOCATION</td>\n",
       "      <td>30</td>\n",
       "    </tr>\n",
       "    <tr>\n",
       "      <th>6</th>\n",
       "      <td>ORGANIZATION</td>\n",
       "      <td>11</td>\n",
       "    </tr>\n",
       "    <tr>\n",
       "      <th>7</th>\n",
       "      <td>SYMPTOM_AND_DISEASE</td>\n",
       "      <td>76</td>\n",
       "    </tr>\n",
       "    <tr>\n",
       "      <th>8</th>\n",
       "      <td>TRANSPORTATION</td>\n",
       "      <td>0</td>\n",
       "    </tr>\n",
       "    <tr>\n",
       "      <th>9</th>\n",
       "      <td>DATE</td>\n",
       "      <td>2</td>\n",
       "    </tr>\n",
       "    <tr>\n",
       "      <th>10</th>\n",
       "      <td>Total</td>\n",
       "      <td>169</td>\n",
       "    </tr>\n",
       "  </tbody>\n",
       "</table>\n",
       "</div>\n",
       "      <button class=\"colab-df-convert\" onclick=\"convertToInteractive('df-8164a040-11c0-45a8-b312-84561cf70900')\"\n",
       "              title=\"Convert this dataframe to an interactive table.\"\n",
       "              style=\"display:none;\">\n",
       "        \n",
       "  <svg xmlns=\"http://www.w3.org/2000/svg\" height=\"24px\"viewBox=\"0 0 24 24\"\n",
       "       width=\"24px\">\n",
       "    <path d=\"M0 0h24v24H0V0z\" fill=\"none\"/>\n",
       "    <path d=\"M18.56 5.44l.94 2.06.94-2.06 2.06-.94-2.06-.94-.94-2.06-.94 2.06-2.06.94zm-11 1L8.5 8.5l.94-2.06 2.06-.94-2.06-.94L8.5 2.5l-.94 2.06-2.06.94zm10 10l.94 2.06.94-2.06 2.06-.94-2.06-.94-.94-2.06-.94 2.06-2.06.94z\"/><path d=\"M17.41 7.96l-1.37-1.37c-.4-.4-.92-.59-1.43-.59-.52 0-1.04.2-1.43.59L10.3 9.45l-7.72 7.72c-.78.78-.78 2.05 0 2.83L4 21.41c.39.39.9.59 1.41.59.51 0 1.02-.2 1.41-.59l7.78-7.78 2.81-2.81c.8-.78.8-2.07 0-2.86zM5.41 20L4 18.59l7.72-7.72 1.47 1.35L5.41 20z\"/>\n",
       "  </svg>\n",
       "      </button>\n",
       "      \n",
       "  <style>\n",
       "    .colab-df-container {\n",
       "      display:flex;\n",
       "      flex-wrap:wrap;\n",
       "      gap: 12px;\n",
       "    }\n",
       "\n",
       "    .colab-df-convert {\n",
       "      background-color: #E8F0FE;\n",
       "      border: none;\n",
       "      border-radius: 50%;\n",
       "      cursor: pointer;\n",
       "      display: none;\n",
       "      fill: #1967D2;\n",
       "      height: 32px;\n",
       "      padding: 0 0 0 0;\n",
       "      width: 32px;\n",
       "    }\n",
       "\n",
       "    .colab-df-convert:hover {\n",
       "      background-color: #E2EBFA;\n",
       "      box-shadow: 0px 1px 2px rgba(60, 64, 67, 0.3), 0px 1px 3px 1px rgba(60, 64, 67, 0.15);\n",
       "      fill: #174EA6;\n",
       "    }\n",
       "\n",
       "    [theme=dark] .colab-df-convert {\n",
       "      background-color: #3B4455;\n",
       "      fill: #D2E3FC;\n",
       "    }\n",
       "\n",
       "    [theme=dark] .colab-df-convert:hover {\n",
       "      background-color: #434B5C;\n",
       "      box-shadow: 0px 1px 3px 1px rgba(0, 0, 0, 0.15);\n",
       "      filter: drop-shadow(0px 1px 2px rgba(0, 0, 0, 0.3));\n",
       "      fill: #FFFFFF;\n",
       "    }\n",
       "  </style>\n",
       "\n",
       "      <script>\n",
       "        const buttonEl =\n",
       "          document.querySelector('#df-8164a040-11c0-45a8-b312-84561cf70900 button.colab-df-convert');\n",
       "        buttonEl.style.display =\n",
       "          google.colab.kernel.accessAllowed ? 'block' : 'none';\n",
       "\n",
       "        async function convertToInteractive(key) {\n",
       "          const element = document.querySelector('#df-8164a040-11c0-45a8-b312-84561cf70900');\n",
       "          const dataTable =\n",
       "            await google.colab.kernel.invokeFunction('convertToInteractive',\n",
       "                                                     [key], {});\n",
       "          if (!dataTable) return;\n",
       "\n",
       "          const docLinkHtml = 'Like what you see? Visit the ' +\n",
       "            '<a target=\"_blank\" href=https://colab.research.google.com/notebooks/data_table.ipynb>data table notebook</a>'\n",
       "            + ' to learn more about interactive tables.';\n",
       "          element.innerHTML = '';\n",
       "          dataTable['output_type'] = 'display_data';\n",
       "          await google.colab.output.renderOutput(dataTable, element);\n",
       "          const docLink = document.createElement('div');\n",
       "          docLink.innerHTML = docLinkHtml;\n",
       "          element.appendChild(docLink);\n",
       "        }\n",
       "      </script>\n",
       "    </div>\n",
       "  </div>\n",
       "  "
      ],
      "text/plain": [
       "                    Tag  No Extraction\n",
       "0            PATIENT_ID              6\n",
       "1                  NAME             12\n",
       "2                   AGE              5\n",
       "3                GENDER              9\n",
       "4                   JOB             18\n",
       "5              LOCATION             30\n",
       "6          ORGANIZATION             11\n",
       "7   SYMPTOM_AND_DISEASE             76\n",
       "8        TRANSPORTATION              0\n",
       "9                  DATE              2\n",
       "10                Total            169"
      ]
     },
     "metadata": {},
     "execution_count": 29
    }
   ]
  },
  {
   "cell_type": "code",
   "source": [
    "df_noex.sort_values(\"No Extraction\", ascending=False, inplace=True, ignore_index=True)\n",
    "no_ex_sum = df_noex.iloc[0, -1]\n",
    "df_noex.drop(0, inplace=True)"
   ],
   "metadata": {
    "colab": {
     "base_uri": "https://localhost:8080/"
    },
    "id": "BxvSmBeq-xKw",
    "outputId": "1942201d-2e8a-4779-ee09-bc9db989d965"
   },
   "execution_count": null,
   "outputs": [
    {
     "output_type": "stream",
     "name": "stderr",
     "text": [
      "/usr/local/lib/python3.7/dist-packages/ipykernel_launcher.py:1: SettingWithCopyWarning: \n",
      "A value is trying to be set on a copy of a slice from a DataFrame\n",
      "\n",
      "See the caveats in the documentation: https://pandas.pydata.org/pandas-docs/stable/user_guide/indexing.html#returning-a-view-versus-a-copy\n",
      "  \"\"\"Entry point for launching an IPython kernel.\n",
      "/usr/local/lib/python3.7/dist-packages/pandas/core/frame.py:4174: SettingWithCopyWarning: \n",
      "A value is trying to be set on a copy of a slice from a DataFrame\n",
      "\n",
      "See the caveats in the documentation: https://pandas.pydata.org/pandas-docs/stable/user_guide/indexing.html#returning-a-view-versus-a-copy\n",
      "  errors=errors,\n"
     ]
    }
   ]
  },
  {
   "cell_type": "code",
   "source": [
    "labels = [f'{l}, {s * 100 / (no_ex_sum):0.1f}%' for l, s in zip(df_noex[\"Tag\"], df_noex[\"No Extraction\"])]"
   ],
   "metadata": {
    "id": "gYPia7ll_6lG"
   },
   "execution_count": null,
   "outputs": []
  },
  {
   "cell_type": "code",
   "source": [
    "labels"
   ],
   "metadata": {
    "colab": {
     "base_uri": "https://localhost:8080/"
    },
    "id": "4eIeVsrTAHra",
    "outputId": "9af2a4f9-d449-458c-d49e-3e3fc33f49bd"
   },
   "execution_count": null,
   "outputs": [
    {
     "output_type": "execute_result",
     "data": {
      "text/plain": [
       "['SYMPTOM_AND_DISEASE, 45.0%',\n",
       " 'LOCATION, 17.8%',\n",
       " 'JOB, 10.7%',\n",
       " 'NAME, 7.1%',\n",
       " 'ORGANIZATION, 6.5%',\n",
       " 'GENDER, 5.3%',\n",
       " 'PATIENT_ID, 3.6%',\n",
       " 'AGE, 3.0%',\n",
       " 'DATE, 1.2%',\n",
       " 'TRANSPORTATION, 0.0%']"
      ]
     },
     "metadata": {},
     "execution_count": 32
    }
   ]
  },
  {
   "cell_type": "code",
   "source": [
    "df_noex"
   ],
   "metadata": {
    "colab": {
     "base_uri": "https://localhost:8080/",
     "height": 359
    },
    "id": "4Ju_-XF6CfJQ",
    "outputId": "507bb33e-d61a-41be-e3c6-5afc581d2f40"
   },
   "execution_count": null,
   "outputs": [
    {
     "output_type": "execute_result",
     "data": {
      "text/html": [
       "\n",
       "  <div id=\"df-4185d59c-55d6-46a4-aed3-23cd8d92c4c1\">\n",
       "    <div class=\"colab-df-container\">\n",
       "      <div>\n",
       "<style scoped>\n",
       "    .dataframe tbody tr th:only-of-type {\n",
       "        vertical-align: middle;\n",
       "    }\n",
       "\n",
       "    .dataframe tbody tr th {\n",
       "        vertical-align: top;\n",
       "    }\n",
       "\n",
       "    .dataframe thead th {\n",
       "        text-align: right;\n",
       "    }\n",
       "</style>\n",
       "<table border=\"1\" class=\"dataframe\">\n",
       "  <thead>\n",
       "    <tr style=\"text-align: right;\">\n",
       "      <th></th>\n",
       "      <th>Tag</th>\n",
       "      <th>No Extraction</th>\n",
       "    </tr>\n",
       "  </thead>\n",
       "  <tbody>\n",
       "    <tr>\n",
       "      <th>1</th>\n",
       "      <td>SYMPTOM_AND_DISEASE</td>\n",
       "      <td>76</td>\n",
       "    </tr>\n",
       "    <tr>\n",
       "      <th>2</th>\n",
       "      <td>LOCATION</td>\n",
       "      <td>30</td>\n",
       "    </tr>\n",
       "    <tr>\n",
       "      <th>3</th>\n",
       "      <td>JOB</td>\n",
       "      <td>18</td>\n",
       "    </tr>\n",
       "    <tr>\n",
       "      <th>4</th>\n",
       "      <td>NAME</td>\n",
       "      <td>12</td>\n",
       "    </tr>\n",
       "    <tr>\n",
       "      <th>5</th>\n",
       "      <td>ORGANIZATION</td>\n",
       "      <td>11</td>\n",
       "    </tr>\n",
       "    <tr>\n",
       "      <th>6</th>\n",
       "      <td>GENDER</td>\n",
       "      <td>9</td>\n",
       "    </tr>\n",
       "    <tr>\n",
       "      <th>7</th>\n",
       "      <td>PATIENT_ID</td>\n",
       "      <td>6</td>\n",
       "    </tr>\n",
       "    <tr>\n",
       "      <th>8</th>\n",
       "      <td>AGE</td>\n",
       "      <td>5</td>\n",
       "    </tr>\n",
       "    <tr>\n",
       "      <th>9</th>\n",
       "      <td>DATE</td>\n",
       "      <td>2</td>\n",
       "    </tr>\n",
       "    <tr>\n",
       "      <th>10</th>\n",
       "      <td>TRANSPORTATION</td>\n",
       "      <td>0</td>\n",
       "    </tr>\n",
       "  </tbody>\n",
       "</table>\n",
       "</div>\n",
       "      <button class=\"colab-df-convert\" onclick=\"convertToInteractive('df-4185d59c-55d6-46a4-aed3-23cd8d92c4c1')\"\n",
       "              title=\"Convert this dataframe to an interactive table.\"\n",
       "              style=\"display:none;\">\n",
       "        \n",
       "  <svg xmlns=\"http://www.w3.org/2000/svg\" height=\"24px\"viewBox=\"0 0 24 24\"\n",
       "       width=\"24px\">\n",
       "    <path d=\"M0 0h24v24H0V0z\" fill=\"none\"/>\n",
       "    <path d=\"M18.56 5.44l.94 2.06.94-2.06 2.06-.94-2.06-.94-.94-2.06-.94 2.06-2.06.94zm-11 1L8.5 8.5l.94-2.06 2.06-.94-2.06-.94L8.5 2.5l-.94 2.06-2.06.94zm10 10l.94 2.06.94-2.06 2.06-.94-2.06-.94-.94-2.06-.94 2.06-2.06.94z\"/><path d=\"M17.41 7.96l-1.37-1.37c-.4-.4-.92-.59-1.43-.59-.52 0-1.04.2-1.43.59L10.3 9.45l-7.72 7.72c-.78.78-.78 2.05 0 2.83L4 21.41c.39.39.9.59 1.41.59.51 0 1.02-.2 1.41-.59l7.78-7.78 2.81-2.81c.8-.78.8-2.07 0-2.86zM5.41 20L4 18.59l7.72-7.72 1.47 1.35L5.41 20z\"/>\n",
       "  </svg>\n",
       "      </button>\n",
       "      \n",
       "  <style>\n",
       "    .colab-df-container {\n",
       "      display:flex;\n",
       "      flex-wrap:wrap;\n",
       "      gap: 12px;\n",
       "    }\n",
       "\n",
       "    .colab-df-convert {\n",
       "      background-color: #E8F0FE;\n",
       "      border: none;\n",
       "      border-radius: 50%;\n",
       "      cursor: pointer;\n",
       "      display: none;\n",
       "      fill: #1967D2;\n",
       "      height: 32px;\n",
       "      padding: 0 0 0 0;\n",
       "      width: 32px;\n",
       "    }\n",
       "\n",
       "    .colab-df-convert:hover {\n",
       "      background-color: #E2EBFA;\n",
       "      box-shadow: 0px 1px 2px rgba(60, 64, 67, 0.3), 0px 1px 3px 1px rgba(60, 64, 67, 0.15);\n",
       "      fill: #174EA6;\n",
       "    }\n",
       "\n",
       "    [theme=dark] .colab-df-convert {\n",
       "      background-color: #3B4455;\n",
       "      fill: #D2E3FC;\n",
       "    }\n",
       "\n",
       "    [theme=dark] .colab-df-convert:hover {\n",
       "      background-color: #434B5C;\n",
       "      box-shadow: 0px 1px 3px 1px rgba(0, 0, 0, 0.15);\n",
       "      filter: drop-shadow(0px 1px 2px rgba(0, 0, 0, 0.3));\n",
       "      fill: #FFFFFF;\n",
       "    }\n",
       "  </style>\n",
       "\n",
       "      <script>\n",
       "        const buttonEl =\n",
       "          document.querySelector('#df-4185d59c-55d6-46a4-aed3-23cd8d92c4c1 button.colab-df-convert');\n",
       "        buttonEl.style.display =\n",
       "          google.colab.kernel.accessAllowed ? 'block' : 'none';\n",
       "\n",
       "        async function convertToInteractive(key) {\n",
       "          const element = document.querySelector('#df-4185d59c-55d6-46a4-aed3-23cd8d92c4c1');\n",
       "          const dataTable =\n",
       "            await google.colab.kernel.invokeFunction('convertToInteractive',\n",
       "                                                     [key], {});\n",
       "          if (!dataTable) return;\n",
       "\n",
       "          const docLinkHtml = 'Like what you see? Visit the ' +\n",
       "            '<a target=\"_blank\" href=https://colab.research.google.com/notebooks/data_table.ipynb>data table notebook</a>'\n",
       "            + ' to learn more about interactive tables.';\n",
       "          element.innerHTML = '';\n",
       "          dataTable['output_type'] = 'display_data';\n",
       "          await google.colab.output.renderOutput(dataTable, element);\n",
       "          const docLink = document.createElement('div');\n",
       "          docLink.innerHTML = docLinkHtml;\n",
       "          element.appendChild(docLink);\n",
       "        }\n",
       "      </script>\n",
       "    </div>\n",
       "  </div>\n",
       "  "
      ],
      "text/plain": [
       "                    Tag  No Extraction\n",
       "1   SYMPTOM_AND_DISEASE             76\n",
       "2              LOCATION             30\n",
       "3                   JOB             18\n",
       "4                  NAME             12\n",
       "5          ORGANIZATION             11\n",
       "6                GENDER              9\n",
       "7            PATIENT_ID              6\n",
       "8                   AGE              5\n",
       "9                  DATE              2\n",
       "10       TRANSPORTATION              0"
      ]
     },
     "metadata": {},
     "execution_count": 33
    }
   ]
  },
  {
   "cell_type": "code",
   "source": [
    "import matplotlib.patches\n",
    "\n",
    "plt.gca().axis(\"equal\")\n",
    "\n",
    "temp_labels = df_noex['Tag'].values.tolist()\n",
    "pie = plt.pie(df_noex[\"No Extraction\"], startangle=90, wedgeprops={'linewidth': 1, \"edgecolor\": \"k\"}, colors=[colors[key] for key in temp_labels])\n",
    "handles = []\n",
    "\n",
    "for i, l in enumerate(labels):\n",
    "    handles.append(matplotlib.patches.Patch(color=plt.cm.Set3((i) / 8.), label=l))\n",
    "plt.legend(labels, bbox_to_anchor=(1, 0), loc=\"lower right\",\n",
    "           bbox_transform=plt.gcf().transFigure)\n",
    "#plt.gcf().text(0.93,0.04,\"* out of competition since 2006\", ha=\"right\")\n",
    "#plt.title(\"Error percentage of No_extraction of PHOBERT\",loc=\"center\",fontsize=17)\n",
    "plt.subplots_adjust(left=0.1, bottom=0.1, right=0.54)\n",
    "plt.savefig('no_extraction.png', bbox_inches='tight', dpi=300)"
   ],
   "metadata": {
    "colab": {
     "base_uri": "https://localhost:8080/",
     "height": 279
    },
    "id": "_yPy24dKCXLc",
    "outputId": "34c4c5a0-f088-4c77-cd95-1a6883e06b8b"
   },
   "execution_count": null,
   "outputs": [
    {
     "output_type": "display_data",
     "data": {
      "image/png": "[encoded data removed]",
      "text/plain": [
       "<Figure size 432x288 with 1 Axes>"
      ]
     },
     "metadata": {}
    }
   ]
  },
  {
   "cell_type": "code",
   "source": [],
   "metadata": {
    "id": "lnxArks3sgxV"
   },
   "execution_count": null,
   "outputs": []
  },
  {
   "cell_type": "markdown",
   "source": [
    "##Wrong Tag"
   ],
   "metadata": {
    "id": "KaH3uLCdEiok"
   }
  },
  {
   "cell_type": "code",
   "source": [
    "df_wrongtag = df_final[[\"Tag\", \"Wrong Tag\"]]\n",
    "df_wrongtag"
   ],
   "metadata": {
    "colab": {
     "base_uri": "https://localhost:8080/",
     "height": 390
    },
    "outputId": "314d0eee-f0cf-4440-d95f-a32c4ac2efa0",
    "id": "pnDcgGpqEiok"
   },
   "execution_count": null,
   "outputs": [
    {
     "output_type": "execute_result",
     "data": {
      "text/html": [
       "\n",
       "  <div id=\"df-421b597c-ef3e-41e3-970c-09bff8ff4ef0\">\n",
       "    <div class=\"colab-df-container\">\n",
       "      <div>\n",
       "<style scoped>\n",
       "    .dataframe tbody tr th:only-of-type {\n",
       "        vertical-align: middle;\n",
       "    }\n",
       "\n",
       "    .dataframe tbody tr th {\n",
       "        vertical-align: top;\n",
       "    }\n",
       "\n",
       "    .dataframe thead th {\n",
       "        text-align: right;\n",
       "    }\n",
       "</style>\n",
       "<table border=\"1\" class=\"dataframe\">\n",
       "  <thead>\n",
       "    <tr style=\"text-align: right;\">\n",
       "      <th></th>\n",
       "      <th>Tag</th>\n",
       "      <th>Wrong Tag</th>\n",
       "    </tr>\n",
       "  </thead>\n",
       "  <tbody>\n",
       "    <tr>\n",
       "      <th>0</th>\n",
       "      <td>PATIENT_ID</td>\n",
       "      <td>4</td>\n",
       "    </tr>\n",
       "    <tr>\n",
       "      <th>1</th>\n",
       "      <td>NAME</td>\n",
       "      <td>1</td>\n",
       "    </tr>\n",
       "    <tr>\n",
       "      <th>2</th>\n",
       "      <td>AGE</td>\n",
       "      <td>4</td>\n",
       "    </tr>\n",
       "    <tr>\n",
       "      <th>3</th>\n",
       "      <td>GENDER</td>\n",
       "      <td>1</td>\n",
       "    </tr>\n",
       "    <tr>\n",
       "      <th>4</th>\n",
       "      <td>JOB</td>\n",
       "      <td>2</td>\n",
       "    </tr>\n",
       "    <tr>\n",
       "      <th>5</th>\n",
       "      <td>LOCATION</td>\n",
       "      <td>41</td>\n",
       "    </tr>\n",
       "    <tr>\n",
       "      <th>6</th>\n",
       "      <td>ORGANIZATION</td>\n",
       "      <td>39</td>\n",
       "    </tr>\n",
       "    <tr>\n",
       "      <th>7</th>\n",
       "      <td>SYMPTOM_AND_DISEASE</td>\n",
       "      <td>1</td>\n",
       "    </tr>\n",
       "    <tr>\n",
       "      <th>8</th>\n",
       "      <td>TRANSPORTATION</td>\n",
       "      <td>1</td>\n",
       "    </tr>\n",
       "    <tr>\n",
       "      <th>9</th>\n",
       "      <td>DATE</td>\n",
       "      <td>4</td>\n",
       "    </tr>\n",
       "    <tr>\n",
       "      <th>10</th>\n",
       "      <td>Total</td>\n",
       "      <td>98</td>\n",
       "    </tr>\n",
       "  </tbody>\n",
       "</table>\n",
       "</div>\n",
       "      <button class=\"colab-df-convert\" onclick=\"convertToInteractive('df-421b597c-ef3e-41e3-970c-09bff8ff4ef0')\"\n",
       "              title=\"Convert this dataframe to an interactive table.\"\n",
       "              style=\"display:none;\">\n",
       "        \n",
       "  <svg xmlns=\"http://www.w3.org/2000/svg\" height=\"24px\"viewBox=\"0 0 24 24\"\n",
       "       width=\"24px\">\n",
       "    <path d=\"M0 0h24v24H0V0z\" fill=\"none\"/>\n",
       "    <path d=\"M18.56 5.44l.94 2.06.94-2.06 2.06-.94-2.06-.94-.94-2.06-.94 2.06-2.06.94zm-11 1L8.5 8.5l.94-2.06 2.06-.94-2.06-.94L8.5 2.5l-.94 2.06-2.06.94zm10 10l.94 2.06.94-2.06 2.06-.94-2.06-.94-.94-2.06-.94 2.06-2.06.94z\"/><path d=\"M17.41 7.96l-1.37-1.37c-.4-.4-.92-.59-1.43-.59-.52 0-1.04.2-1.43.59L10.3 9.45l-7.72 7.72c-.78.78-.78 2.05 0 2.83L4 21.41c.39.39.9.59 1.41.59.51 0 1.02-.2 1.41-.59l7.78-7.78 2.81-2.81c.8-.78.8-2.07 0-2.86zM5.41 20L4 18.59l7.72-7.72 1.47 1.35L5.41 20z\"/>\n",
       "  </svg>\n",
       "      </button>\n",
       "      \n",
       "  <style>\n",
       "    .colab-df-container {\n",
       "      display:flex;\n",
       "      flex-wrap:wrap;\n",
       "      gap: 12px;\n",
       "    }\n",
       "\n",
       "    .colab-df-convert {\n",
       "      background-color: #E8F0FE;\n",
       "      border: none;\n",
       "      border-radius: 50%;\n",
       "      cursor: pointer;\n",
       "      display: none;\n",
       "      fill: #1967D2;\n",
       "      height: 32px;\n",
       "      padding: 0 0 0 0;\n",
       "      width: 32px;\n",
       "    }\n",
       "\n",
       "    .colab-df-convert:hover {\n",
       "      background-color: #E2EBFA;\n",
       "      box-shadow: 0px 1px 2px rgba(60, 64, 67, 0.3), 0px 1px 3px 1px rgba(60, 64, 67, 0.15);\n",
       "      fill: #174EA6;\n",
       "    }\n",
       "\n",
       "    [theme=dark] .colab-df-convert {\n",
       "      background-color: #3B4455;\n",
       "      fill: #D2E3FC;\n",
       "    }\n",
       "\n",
       "    [theme=dark] .colab-df-convert:hover {\n",
       "      background-color: #434B5C;\n",
       "      box-shadow: 0px 1px 3px 1px rgba(0, 0, 0, 0.15);\n",
       "      filter: drop-shadow(0px 1px 2px rgba(0, 0, 0, 0.3));\n",
       "      fill: #FFFFFF;\n",
       "    }\n",
       "  </style>\n",
       "\n",
       "      <script>\n",
       "        const buttonEl =\n",
       "          document.querySelector('#df-421b597c-ef3e-41e3-970c-09bff8ff4ef0 button.colab-df-convert');\n",
       "        buttonEl.style.display =\n",
       "          google.colab.kernel.accessAllowed ? 'block' : 'none';\n",
       "\n",
       "        async function convertToInteractive(key) {\n",
       "          const element = document.querySelector('#df-421b597c-ef3e-41e3-970c-09bff8ff4ef0');\n",
       "          const dataTable =\n",
       "            await google.colab.kernel.invokeFunction('convertToInteractive',\n",
       "                                                     [key], {});\n",
       "          if (!dataTable) return;\n",
       "\n",
       "          const docLinkHtml = 'Like what you see? Visit the ' +\n",
       "            '<a target=\"_blank\" href=https://colab.research.google.com/notebooks/data_table.ipynb>data table notebook</a>'\n",
       "            + ' to learn more about interactive tables.';\n",
       "          element.innerHTML = '';\n",
       "          dataTable['output_type'] = 'display_data';\n",
       "          await google.colab.output.renderOutput(dataTable, element);\n",
       "          const docLink = document.createElement('div');\n",
       "          docLink.innerHTML = docLinkHtml;\n",
       "          element.appendChild(docLink);\n",
       "        }\n",
       "      </script>\n",
       "    </div>\n",
       "  </div>\n",
       "  "
      ],
      "text/plain": [
       "                    Tag  Wrong Tag\n",
       "0            PATIENT_ID          4\n",
       "1                  NAME          1\n",
       "2                   AGE          4\n",
       "3                GENDER          1\n",
       "4                   JOB          2\n",
       "5              LOCATION         41\n",
       "6          ORGANIZATION         39\n",
       "7   SYMPTOM_AND_DISEASE          1\n",
       "8        TRANSPORTATION          1\n",
       "9                  DATE          4\n",
       "10                Total         98"
      ]
     },
     "metadata": {},
     "execution_count": 35
    }
   ]
  },
  {
   "cell_type": "code",
   "source": [
    "df_wrongtag.sort_values(\"Wrong Tag\", ascending=False, inplace=True, ignore_index=True)\n",
    "wrongtag_sum = df_wrongtag.iloc[0, -1]\n",
    "df_wrongtag.drop(0, inplace=True)"
   ],
   "metadata": {
    "colab": {
     "base_uri": "https://localhost:8080/"
    },
    "outputId": "57363ba4-009d-425c-b4c4-fbbcdf526c9c",
    "id": "wYAsVlRmEiol"
   },
   "execution_count": null,
   "outputs": [
    {
     "output_type": "stream",
     "name": "stderr",
     "text": [
      "/usr/local/lib/python3.7/dist-packages/ipykernel_launcher.py:1: SettingWithCopyWarning: \n",
      "A value is trying to be set on a copy of a slice from a DataFrame\n",
      "\n",
      "See the caveats in the documentation: https://pandas.pydata.org/pandas-docs/stable/user_guide/indexing.html#returning-a-view-versus-a-copy\n",
      "  \"\"\"Entry point for launching an IPython kernel.\n",
      "/usr/local/lib/python3.7/dist-packages/pandas/core/frame.py:4174: SettingWithCopyWarning: \n",
      "A value is trying to be set on a copy of a slice from a DataFrame\n",
      "\n",
      "See the caveats in the documentation: https://pandas.pydata.org/pandas-docs/stable/user_guide/indexing.html#returning-a-view-versus-a-copy\n",
      "  errors=errors,\n"
     ]
    }
   ]
  },
  {
   "cell_type": "code",
   "source": [
    "df_wrongtag"
   ],
   "metadata": {
    "colab": {
     "base_uri": "https://localhost:8080/",
     "height": 359
    },
    "id": "QMn3hfG6E73W",
    "outputId": "9136d469-6209-4dcc-efc9-a45478766194"
   },
   "execution_count": null,
   "outputs": [
    {
     "output_type": "execute_result",
     "data": {
      "text/html": [
       "\n",
       "  <div id=\"df-d984064b-3da7-439c-a31c-0952e299c94e\">\n",
       "    <div class=\"colab-df-container\">\n",
       "      <div>\n",
       "<style scoped>\n",
       "    .dataframe tbody tr th:only-of-type {\n",
       "        vertical-align: middle;\n",
       "    }\n",
       "\n",
       "    .dataframe tbody tr th {\n",
       "        vertical-align: top;\n",
       "    }\n",
       "\n",
       "    .dataframe thead th {\n",
       "        text-align: right;\n",
       "    }\n",
       "</style>\n",
       "<table border=\"1\" class=\"dataframe\">\n",
       "  <thead>\n",
       "    <tr style=\"text-align: right;\">\n",
       "      <th></th>\n",
       "      <th>Tag</th>\n",
       "      <th>Wrong Tag</th>\n",
       "    </tr>\n",
       "  </thead>\n",
       "  <tbody>\n",
       "    <tr>\n",
       "      <th>1</th>\n",
       "      <td>LOCATION</td>\n",
       "      <td>41</td>\n",
       "    </tr>\n",
       "    <tr>\n",
       "      <th>2</th>\n",
       "      <td>ORGANIZATION</td>\n",
       "      <td>39</td>\n",
       "    </tr>\n",
       "    <tr>\n",
       "      <th>3</th>\n",
       "      <td>PATIENT_ID</td>\n",
       "      <td>4</td>\n",
       "    </tr>\n",
       "    <tr>\n",
       "      <th>4</th>\n",
       "      <td>AGE</td>\n",
       "      <td>4</td>\n",
       "    </tr>\n",
       "    <tr>\n",
       "      <th>5</th>\n",
       "      <td>DATE</td>\n",
       "      <td>4</td>\n",
       "    </tr>\n",
       "    <tr>\n",
       "      <th>6</th>\n",
       "      <td>JOB</td>\n",
       "      <td>2</td>\n",
       "    </tr>\n",
       "    <tr>\n",
       "      <th>7</th>\n",
       "      <td>NAME</td>\n",
       "      <td>1</td>\n",
       "    </tr>\n",
       "    <tr>\n",
       "      <th>8</th>\n",
       "      <td>GENDER</td>\n",
       "      <td>1</td>\n",
       "    </tr>\n",
       "    <tr>\n",
       "      <th>9</th>\n",
       "      <td>SYMPTOM_AND_DISEASE</td>\n",
       "      <td>1</td>\n",
       "    </tr>\n",
       "    <tr>\n",
       "      <th>10</th>\n",
       "      <td>TRANSPORTATION</td>\n",
       "      <td>1</td>\n",
       "    </tr>\n",
       "  </tbody>\n",
       "</table>\n",
       "</div>\n",
       "      <button class=\"colab-df-convert\" onclick=\"convertToInteractive('df-d984064b-3da7-439c-a31c-0952e299c94e')\"\n",
       "              title=\"Convert this dataframe to an interactive table.\"\n",
       "              style=\"display:none;\">\n",
       "        \n",
       "  <svg xmlns=\"http://www.w3.org/2000/svg\" height=\"24px\"viewBox=\"0 0 24 24\"\n",
       "       width=\"24px\">\n",
       "    <path d=\"M0 0h24v24H0V0z\" fill=\"none\"/>\n",
       "    <path d=\"M18.56 5.44l.94 2.06.94-2.06 2.06-.94-2.06-.94-.94-2.06-.94 2.06-2.06.94zm-11 1L8.5 8.5l.94-2.06 2.06-.94-2.06-.94L8.5 2.5l-.94 2.06-2.06.94zm10 10l.94 2.06.94-2.06 2.06-.94-2.06-.94-.94-2.06-.94 2.06-2.06.94z\"/><path d=\"M17.41 7.96l-1.37-1.37c-.4-.4-.92-.59-1.43-.59-.52 0-1.04.2-1.43.59L10.3 9.45l-7.72 7.72c-.78.78-.78 2.05 0 2.83L4 21.41c.39.39.9.59 1.41.59.51 0 1.02-.2 1.41-.59l7.78-7.78 2.81-2.81c.8-.78.8-2.07 0-2.86zM5.41 20L4 18.59l7.72-7.72 1.47 1.35L5.41 20z\"/>\n",
       "  </svg>\n",
       "      </button>\n",
       "      \n",
       "  <style>\n",
       "    .colab-df-container {\n",
       "      display:flex;\n",
       "      flex-wrap:wrap;\n",
       "      gap: 12px;\n",
       "    }\n",
       "\n",
       "    .colab-df-convert {\n",
       "      background-color: #E8F0FE;\n",
       "      border: none;\n",
       "      border-radius: 50%;\n",
       "      cursor: pointer;\n",
       "      display: none;\n",
       "      fill: #1967D2;\n",
       "      height: 32px;\n",
       "      padding: 0 0 0 0;\n",
       "      width: 32px;\n",
       "    }\n",
       "\n",
       "    .colab-df-convert:hover {\n",
       "      background-color: #E2EBFA;\n",
       "      box-shadow: 0px 1px 2px rgba(60, 64, 67, 0.3), 0px 1px 3px 1px rgba(60, 64, 67, 0.15);\n",
       "      fill: #174EA6;\n",
       "    }\n",
       "\n",
       "    [theme=dark] .colab-df-convert {\n",
       "      background-color: #3B4455;\n",
       "      fill: #D2E3FC;\n",
       "    }\n",
       "\n",
       "    [theme=dark] .colab-df-convert:hover {\n",
       "      background-color: #434B5C;\n",
       "      box-shadow: 0px 1px 3px 1px rgba(0, 0, 0, 0.15);\n",
       "      filter: drop-shadow(0px 1px 2px rgba(0, 0, 0, 0.3));\n",
       "      fill: #FFFFFF;\n",
       "    }\n",
       "  </style>\n",
       "\n",
       "      <script>\n",
       "        const buttonEl =\n",
       "          document.querySelector('#df-d984064b-3da7-439c-a31c-0952e299c94e button.colab-df-convert');\n",
       "        buttonEl.style.display =\n",
       "          google.colab.kernel.accessAllowed ? 'block' : 'none';\n",
       "\n",
       "        async function convertToInteractive(key) {\n",
       "          const element = document.querySelector('#df-d984064b-3da7-439c-a31c-0952e299c94e');\n",
       "          const dataTable =\n",
       "            await google.colab.kernel.invokeFunction('convertToInteractive',\n",
       "                                                     [key], {});\n",
       "          if (!dataTable) return;\n",
       "\n",
       "          const docLinkHtml = 'Like what you see? Visit the ' +\n",
       "            '<a target=\"_blank\" href=https://colab.research.google.com/notebooks/data_table.ipynb>data table notebook</a>'\n",
       "            + ' to learn more about interactive tables.';\n",
       "          element.innerHTML = '';\n",
       "          dataTable['output_type'] = 'display_data';\n",
       "          await google.colab.output.renderOutput(dataTable, element);\n",
       "          const docLink = document.createElement('div');\n",
       "          docLink.innerHTML = docLinkHtml;\n",
       "          element.appendChild(docLink);\n",
       "        }\n",
       "      </script>\n",
       "    </div>\n",
       "  </div>\n",
       "  "
      ],
      "text/plain": [
       "                    Tag  Wrong Tag\n",
       "1              LOCATION         41\n",
       "2          ORGANIZATION         39\n",
       "3            PATIENT_ID          4\n",
       "4                   AGE          4\n",
       "5                  DATE          4\n",
       "6                   JOB          2\n",
       "7                  NAME          1\n",
       "8                GENDER          1\n",
       "9   SYMPTOM_AND_DISEASE          1\n",
       "10       TRANSPORTATION          1"
      ]
     },
     "metadata": {},
     "execution_count": 37
    }
   ]
  },
  {
   "cell_type": "code",
   "source": [
    "labels = [f'{l}, {s * 100 / (wrongtag_sum):0.1f}%' for l, s in zip(df_wrongtag[\"Tag\"], df_wrongtag[\"Wrong Tag\"])]"
   ],
   "metadata": {
    "id": "uAPcB6SfEiol"
   },
   "execution_count": null,
   "outputs": []
  },
  {
   "cell_type": "code",
   "source": [
    "labels"
   ],
   "metadata": {
    "colab": {
     "base_uri": "https://localhost:8080/"
    },
    "outputId": "ab845350-2e79-458f-cb20-0bd640292b1b",
    "id": "lUNSotpGEiol"
   },
   "execution_count": null,
   "outputs": [
    {
     "output_type": "execute_result",
     "data": {
      "text/plain": [
       "['LOCATION, 41.8%',\n",
       " 'ORGANIZATION, 39.8%',\n",
       " 'PATIENT_ID, 4.1%',\n",
       " 'AGE, 4.1%',\n",
       " 'DATE, 4.1%',\n",
       " 'JOB, 2.0%',\n",
       " 'NAME, 1.0%',\n",
       " 'GENDER, 1.0%',\n",
       " 'SYMPTOM_AND_DISEASE, 1.0%',\n",
       " 'TRANSPORTATION, 1.0%']"
      ]
     },
     "metadata": {},
     "execution_count": 39
    }
   ]
  },
  {
   "cell_type": "code",
   "source": [
    "import matplotlib.patches\n",
    "\n",
    "plt.gca().axis(\"equal\")\n",
    "\n",
    "temp_labels = df_wrongtag['Tag'].values.tolist()\n",
    "pie = plt.pie(df_wrongtag.iloc[:, -1], startangle=90, wedgeprops={'linewidth': 1, \"edgecolor\": \"k\"}, colors=[colors[key] for key in temp_labels])\n",
    "handles = []\n",
    "\n",
    "for i, l in enumerate(labels):\n",
    "    handles.append(matplotlib.patches.Patch(color=plt.cm.Set3((i) / 8.), label=l))\n",
    "plt.legend(labels, bbox_to_anchor=(1, 0), loc=\"lower right\",\n",
    "           bbox_transform=plt.gcf().transFigure)\n",
    "#plt.gcf().text(0.93,0.04,\"* out of competition since 2006\", ha=\"right\")\n",
    "#plt.title(\"Error percentage of No_extraction of PHOBERT\",loc=\"center\",fontsize=17)\n",
    "plt.subplots_adjust(left=0.1, bottom=0.1, right=0.54)\n",
    "plt.savefig('wrongtag.png', bbox_inches='tight', dpi=300)"
   ],
   "metadata": {
    "colab": {
     "base_uri": "https://localhost:8080/",
     "height": 279
    },
    "outputId": "6de36cde-3ca4-4675-c03b-42f3a8b0ad82",
    "id": "rFgxYnuDEiom"
   },
   "execution_count": null,
   "outputs": [
    {
     "output_type": "display_data",
     "data": {
      "image/png": "[encoded data removed]",
      "text/plain": [
       "<Figure size 432x288 with 1 Axes>"
      ]
     },
     "metadata": {}
    }
   ]
  },
  {
   "cell_type": "markdown",
   "source": [
    "##Wrong Range"
   ],
   "metadata": {
    "id": "W_axefEQFQ1c"
   }
  },
  {
   "cell_type": "code",
   "source": [
    "df_wrongrange = df_final[[\"Tag\", \"Wrong Range\"]]\n",
    "df_wrongrange"
   ],
   "metadata": {
    "colab": {
     "base_uri": "https://localhost:8080/",
     "height": 390
    },
    "outputId": "e1855bbd-fc3b-49a2-9599-ce96948ab4e0",
    "id": "zTOYeFC4FQ1d"
   },
   "execution_count": null,
   "outputs": [
    {
     "output_type": "execute_result",
     "data": {
      "text/html": [
       "\n",
       "  <div id=\"df-f813c2b6-86af-4660-8dfe-9d1b992f6770\">\n",
       "    <div class=\"colab-df-container\">\n",
       "      <div>\n",
       "<style scoped>\n",
       "    .dataframe tbody tr th:only-of-type {\n",
       "        vertical-align: middle;\n",
       "    }\n",
       "\n",
       "    .dataframe tbody tr th {\n",
       "        vertical-align: top;\n",
       "    }\n",
       "\n",
       "    .dataframe thead th {\n",
       "        text-align: right;\n",
       "    }\n",
       "</style>\n",
       "<table border=\"1\" class=\"dataframe\">\n",
       "  <thead>\n",
       "    <tr style=\"text-align: right;\">\n",
       "      <th></th>\n",
       "      <th>Tag</th>\n",
       "      <th>Wrong Range</th>\n",
       "    </tr>\n",
       "  </thead>\n",
       "  <tbody>\n",
       "    <tr>\n",
       "      <th>0</th>\n",
       "      <td>PATIENT_ID</td>\n",
       "      <td>21</td>\n",
       "    </tr>\n",
       "    <tr>\n",
       "      <th>1</th>\n",
       "      <td>NAME</td>\n",
       "      <td>2</td>\n",
       "    </tr>\n",
       "    <tr>\n",
       "      <th>2</th>\n",
       "      <td>AGE</td>\n",
       "      <td>1</td>\n",
       "    </tr>\n",
       "    <tr>\n",
       "      <th>3</th>\n",
       "      <td>GENDER</td>\n",
       "      <td>0</td>\n",
       "    </tr>\n",
       "    <tr>\n",
       "      <th>4</th>\n",
       "      <td>JOB</td>\n",
       "      <td>12</td>\n",
       "    </tr>\n",
       "    <tr>\n",
       "      <th>5</th>\n",
       "      <td>LOCATION</td>\n",
       "      <td>110</td>\n",
       "    </tr>\n",
       "    <tr>\n",
       "      <th>6</th>\n",
       "      <td>ORGANIZATION</td>\n",
       "      <td>14</td>\n",
       "    </tr>\n",
       "    <tr>\n",
       "      <th>7</th>\n",
       "      <td>SYMPTOM_AND_DISEASE</td>\n",
       "      <td>69</td>\n",
       "    </tr>\n",
       "    <tr>\n",
       "      <th>8</th>\n",
       "      <td>TRANSPORTATION</td>\n",
       "      <td>0</td>\n",
       "    </tr>\n",
       "    <tr>\n",
       "      <th>9</th>\n",
       "      <td>DATE</td>\n",
       "      <td>6</td>\n",
       "    </tr>\n",
       "    <tr>\n",
       "      <th>10</th>\n",
       "      <td>Total</td>\n",
       "      <td>235</td>\n",
       "    </tr>\n",
       "  </tbody>\n",
       "</table>\n",
       "</div>\n",
       "      <button class=\"colab-df-convert\" onclick=\"convertToInteractive('df-f813c2b6-86af-4660-8dfe-9d1b992f6770')\"\n",
       "              title=\"Convert this dataframe to an interactive table.\"\n",
       "              style=\"display:none;\">\n",
       "        \n",
       "  <svg xmlns=\"http://www.w3.org/2000/svg\" height=\"24px\"viewBox=\"0 0 24 24\"\n",
       "       width=\"24px\">\n",
       "    <path d=\"M0 0h24v24H0V0z\" fill=\"none\"/>\n",
       "    <path d=\"M18.56 5.44l.94 2.06.94-2.06 2.06-.94-2.06-.94-.94-2.06-.94 2.06-2.06.94zm-11 1L8.5 8.5l.94-2.06 2.06-.94-2.06-.94L8.5 2.5l-.94 2.06-2.06.94zm10 10l.94 2.06.94-2.06 2.06-.94-2.06-.94-.94-2.06-.94 2.06-2.06.94z\"/><path d=\"M17.41 7.96l-1.37-1.37c-.4-.4-.92-.59-1.43-.59-.52 0-1.04.2-1.43.59L10.3 9.45l-7.72 7.72c-.78.78-.78 2.05 0 2.83L4 21.41c.39.39.9.59 1.41.59.51 0 1.02-.2 1.41-.59l7.78-7.78 2.81-2.81c.8-.78.8-2.07 0-2.86zM5.41 20L4 18.59l7.72-7.72 1.47 1.35L5.41 20z\"/>\n",
       "  </svg>\n",
       "      </button>\n",
       "      \n",
       "  <style>\n",
       "    .colab-df-container {\n",
       "      display:flex;\n",
       "      flex-wrap:wrap;\n",
       "      gap: 12px;\n",
       "    }\n",
       "\n",
       "    .colab-df-convert {\n",
       "      background-color: #E8F0FE;\n",
       "      border: none;\n",
       "      border-radius: 50%;\n",
       "      cursor: pointer;\n",
       "      display: none;\n",
       "      fill: #1967D2;\n",
       "      height: 32px;\n",
       "      padding: 0 0 0 0;\n",
       "      width: 32px;\n",
       "    }\n",
       "\n",
       "    .colab-df-convert:hover {\n",
       "      background-color: #E2EBFA;\n",
       "      box-shadow: 0px 1px 2px rgba(60, 64, 67, 0.3), 0px 1px 3px 1px rgba(60, 64, 67, 0.15);\n",
       "      fill: #174EA6;\n",
       "    }\n",
       "\n",
       "    [theme=dark] .colab-df-convert {\n",
       "      background-color: #3B4455;\n",
       "      fill: #D2E3FC;\n",
       "    }\n",
       "\n",
       "    [theme=dark] .colab-df-convert:hover {\n",
       "      background-color: #434B5C;\n",
       "      box-shadow: 0px 1px 3px 1px rgba(0, 0, 0, 0.15);\n",
       "      filter: drop-shadow(0px 1px 2px rgba(0, 0, 0, 0.3));\n",
       "      fill: #FFFFFF;\n",
       "    }\n",
       "  </style>\n",
       "\n",
       "      <script>\n",
       "        const buttonEl =\n",
       "          document.querySelector('#df-f813c2b6-86af-4660-8dfe-9d1b992f6770 button.colab-df-convert');\n",
       "        buttonEl.style.display =\n",
       "          google.colab.kernel.accessAllowed ? 'block' : 'none';\n",
       "\n",
       "        async function convertToInteractive(key) {\n",
       "          const element = document.querySelector('#df-f813c2b6-86af-4660-8dfe-9d1b992f6770');\n",
       "          const dataTable =\n",
       "            await google.colab.kernel.invokeFunction('convertToInteractive',\n",
       "                                                     [key], {});\n",
       "          if (!dataTable) return;\n",
       "\n",
       "          const docLinkHtml = 'Like what you see? Visit the ' +\n",
       "            '<a target=\"_blank\" href=https://colab.research.google.com/notebooks/data_table.ipynb>data table notebook</a>'\n",
       "            + ' to learn more about interactive tables.';\n",
       "          element.innerHTML = '';\n",
       "          dataTable['output_type'] = 'display_data';\n",
       "          await google.colab.output.renderOutput(dataTable, element);\n",
       "          const docLink = document.createElement('div');\n",
       "          docLink.innerHTML = docLinkHtml;\n",
       "          element.appendChild(docLink);\n",
       "        }\n",
       "      </script>\n",
       "    </div>\n",
       "  </div>\n",
       "  "
      ],
      "text/plain": [
       "                    Tag  Wrong Range\n",
       "0            PATIENT_ID           21\n",
       "1                  NAME            2\n",
       "2                   AGE            1\n",
       "3                GENDER            0\n",
       "4                   JOB           12\n",
       "5              LOCATION          110\n",
       "6          ORGANIZATION           14\n",
       "7   SYMPTOM_AND_DISEASE           69\n",
       "8        TRANSPORTATION            0\n",
       "9                  DATE            6\n",
       "10                Total          235"
      ]
     },
     "metadata": {},
     "execution_count": 41
    }
   ]
  },
  {
   "cell_type": "code",
   "source": [
    "df_wrongrange.sort_values(\"Wrong Range\", ascending=False, inplace=True, ignore_index=True)\n",
    "wrongrange_sum = df_wrongrange.iloc[0, -1]\n",
    "df_wrongrange.drop(0, inplace=True)"
   ],
   "metadata": {
    "colab": {
     "base_uri": "https://localhost:8080/"
    },
    "outputId": "483db77d-f646-46da-841c-f2bc78f78400",
    "id": "P49vLKX6FQ1d"
   },
   "execution_count": null,
   "outputs": [
    {
     "output_type": "stream",
     "name": "stderr",
     "text": [
      "/usr/local/lib/python3.7/dist-packages/ipykernel_launcher.py:1: SettingWithCopyWarning: \n",
      "A value is trying to be set on a copy of a slice from a DataFrame\n",
      "\n",
      "See the caveats in the documentation: https://pandas.pydata.org/pandas-docs/stable/user_guide/indexing.html#returning-a-view-versus-a-copy\n",
      "  \"\"\"Entry point for launching an IPython kernel.\n",
      "/usr/local/lib/python3.7/dist-packages/pandas/core/frame.py:4174: SettingWithCopyWarning: \n",
      "A value is trying to be set on a copy of a slice from a DataFrame\n",
      "\n",
      "See the caveats in the documentation: https://pandas.pydata.org/pandas-docs/stable/user_guide/indexing.html#returning-a-view-versus-a-copy\n",
      "  errors=errors,\n"
     ]
    }
   ]
  },
  {
   "cell_type": "code",
   "source": [
    "df_wrongrange"
   ],
   "metadata": {
    "colab": {
     "base_uri": "https://localhost:8080/",
     "height": 359
    },
    "outputId": "2ca07e28-561c-4d98-a77e-64093eb5391e",
    "id": "Ve1Jy2JjFQ1d"
   },
   "execution_count": null,
   "outputs": [
    {
     "output_type": "execute_result",
     "data": {
      "text/html": [
       "\n",
       "  <div id=\"df-989b7d37-fe51-4b9e-a901-7e5c1cb08e69\">\n",
       "    <div class=\"colab-df-container\">\n",
       "      <div>\n",
       "<style scoped>\n",
       "    .dataframe tbody tr th:only-of-type {\n",
       "        vertical-align: middle;\n",
       "    }\n",
       "\n",
       "    .dataframe tbody tr th {\n",
       "        vertical-align: top;\n",
       "    }\n",
       "\n",
       "    .dataframe thead th {\n",
       "        text-align: right;\n",
       "    }\n",
       "</style>\n",
       "<table border=\"1\" class=\"dataframe\">\n",
       "  <thead>\n",
       "    <tr style=\"text-align: right;\">\n",
       "      <th></th>\n",
       "      <th>Tag</th>\n",
       "      <th>Wrong Range</th>\n",
       "    </tr>\n",
       "  </thead>\n",
       "  <tbody>\n",
       "    <tr>\n",
       "      <th>1</th>\n",
       "      <td>LOCATION</td>\n",
       "      <td>110</td>\n",
       "    </tr>\n",
       "    <tr>\n",
       "      <th>2</th>\n",
       "      <td>SYMPTOM_AND_DISEASE</td>\n",
       "      <td>69</td>\n",
       "    </tr>\n",
       "    <tr>\n",
       "      <th>3</th>\n",
       "      <td>PATIENT_ID</td>\n",
       "      <td>21</td>\n",
       "    </tr>\n",
       "    <tr>\n",
       "      <th>4</th>\n",
       "      <td>ORGANIZATION</td>\n",
       "      <td>14</td>\n",
       "    </tr>\n",
       "    <tr>\n",
       "      <th>5</th>\n",
       "      <td>JOB</td>\n",
       "      <td>12</td>\n",
       "    </tr>\n",
       "    <tr>\n",
       "      <th>6</th>\n",
       "      <td>DATE</td>\n",
       "      <td>6</td>\n",
       "    </tr>\n",
       "    <tr>\n",
       "      <th>7</th>\n",
       "      <td>NAME</td>\n",
       "      <td>2</td>\n",
       "    </tr>\n",
       "    <tr>\n",
       "      <th>8</th>\n",
       "      <td>AGE</td>\n",
       "      <td>1</td>\n",
       "    </tr>\n",
       "    <tr>\n",
       "      <th>9</th>\n",
       "      <td>GENDER</td>\n",
       "      <td>0</td>\n",
       "    </tr>\n",
       "    <tr>\n",
       "      <th>10</th>\n",
       "      <td>TRANSPORTATION</td>\n",
       "      <td>0</td>\n",
       "    </tr>\n",
       "  </tbody>\n",
       "</table>\n",
       "</div>\n",
       "      <button class=\"colab-df-convert\" onclick=\"convertToInteractive('df-989b7d37-fe51-4b9e-a901-7e5c1cb08e69')\"\n",
       "              title=\"Convert this dataframe to an interactive table.\"\n",
       "              style=\"display:none;\">\n",
       "        \n",
       "  <svg xmlns=\"http://www.w3.org/2000/svg\" height=\"24px\"viewBox=\"0 0 24 24\"\n",
       "       width=\"24px\">\n",
       "    <path d=\"M0 0h24v24H0V0z\" fill=\"none\"/>\n",
       "    <path d=\"M18.56 5.44l.94 2.06.94-2.06 2.06-.94-2.06-.94-.94-2.06-.94 2.06-2.06.94zm-11 1L8.5 8.5l.94-2.06 2.06-.94-2.06-.94L8.5 2.5l-.94 2.06-2.06.94zm10 10l.94 2.06.94-2.06 2.06-.94-2.06-.94-.94-2.06-.94 2.06-2.06.94z\"/><path d=\"M17.41 7.96l-1.37-1.37c-.4-.4-.92-.59-1.43-.59-.52 0-1.04.2-1.43.59L10.3 9.45l-7.72 7.72c-.78.78-.78 2.05 0 2.83L4 21.41c.39.39.9.59 1.41.59.51 0 1.02-.2 1.41-.59l7.78-7.78 2.81-2.81c.8-.78.8-2.07 0-2.86zM5.41 20L4 18.59l7.72-7.72 1.47 1.35L5.41 20z\"/>\n",
       "  </svg>\n",
       "      </button>\n",
       "      \n",
       "  <style>\n",
       "    .colab-df-container {\n",
       "      display:flex;\n",
       "      flex-wrap:wrap;\n",
       "      gap: 12px;\n",
       "    }\n",
       "\n",
       "    .colab-df-convert {\n",
       "      background-color: #E8F0FE;\n",
       "      border: none;\n",
       "      border-radius: 50%;\n",
       "      cursor: pointer;\n",
       "      display: none;\n",
       "      fill: #1967D2;\n",
       "      height: 32px;\n",
       "      padding: 0 0 0 0;\n",
       "      width: 32px;\n",
       "    }\n",
       "\n",
       "    .colab-df-convert:hover {\n",
       "      background-color: #E2EBFA;\n",
       "      box-shadow: 0px 1px 2px rgba(60, 64, 67, 0.3), 0px 1px 3px 1px rgba(60, 64, 67, 0.15);\n",
       "      fill: #174EA6;\n",
       "    }\n",
       "\n",
       "    [theme=dark] .colab-df-convert {\n",
       "      background-color: #3B4455;\n",
       "      fill: #D2E3FC;\n",
       "    }\n",
       "\n",
       "    [theme=dark] .colab-df-convert:hover {\n",
       "      background-color: #434B5C;\n",
       "      box-shadow: 0px 1px 3px 1px rgba(0, 0, 0, 0.15);\n",
       "      filter: drop-shadow(0px 1px 2px rgba(0, 0, 0, 0.3));\n",
       "      fill: #FFFFFF;\n",
       "    }\n",
       "  </style>\n",
       "\n",
       "      <script>\n",
       "        const buttonEl =\n",
       "          document.querySelector('#df-989b7d37-fe51-4b9e-a901-7e5c1cb08e69 button.colab-df-convert');\n",
       "        buttonEl.style.display =\n",
       "          google.colab.kernel.accessAllowed ? 'block' : 'none';\n",
       "\n",
       "        async function convertToInteractive(key) {\n",
       "          const element = document.querySelector('#df-989b7d37-fe51-4b9e-a901-7e5c1cb08e69');\n",
       "          const dataTable =\n",
       "            await google.colab.kernel.invokeFunction('convertToInteractive',\n",
       "                                                     [key], {});\n",
       "          if (!dataTable) return;\n",
       "\n",
       "          const docLinkHtml = 'Like what you see? Visit the ' +\n",
       "            '<a target=\"_blank\" href=https://colab.research.google.com/notebooks/data_table.ipynb>data table notebook</a>'\n",
       "            + ' to learn more about interactive tables.';\n",
       "          element.innerHTML = '';\n",
       "          dataTable['output_type'] = 'display_data';\n",
       "          await google.colab.output.renderOutput(dataTable, element);\n",
       "          const docLink = document.createElement('div');\n",
       "          docLink.innerHTML = docLinkHtml;\n",
       "          element.appendChild(docLink);\n",
       "        }\n",
       "      </script>\n",
       "    </div>\n",
       "  </div>\n",
       "  "
      ],
      "text/plain": [
       "                    Tag  Wrong Range\n",
       "1              LOCATION          110\n",
       "2   SYMPTOM_AND_DISEASE           69\n",
       "3            PATIENT_ID           21\n",
       "4          ORGANIZATION           14\n",
       "5                   JOB           12\n",
       "6                  DATE            6\n",
       "7                  NAME            2\n",
       "8                   AGE            1\n",
       "9                GENDER            0\n",
       "10       TRANSPORTATION            0"
      ]
     },
     "metadata": {},
     "execution_count": 43
    }
   ]
  },
  {
   "cell_type": "code",
   "source": [
    "labels = [f'{l}, {s * 100 / (wrongrange_sum):0.1f}%' for l, s in zip(df_wrongrange[\"Tag\"], df_wrongrange[\"Wrong Range\"])]"
   ],
   "metadata": {
    "id": "Ny9HgPjcFQ1d"
   },
   "execution_count": null,
   "outputs": []
  },
  {
   "cell_type": "code",
   "source": [
    "labels"
   ],
   "metadata": {
    "colab": {
     "base_uri": "https://localhost:8080/"
    },
    "outputId": "e6f5bf08-fb31-4282-ba3a-06416f9ab8c1",
    "id": "7piyHxaxFQ1e"
   },
   "execution_count": null,
   "outputs": [
    {
     "output_type": "execute_result",
     "data": {
      "text/plain": [
       "['LOCATION, 46.8%',\n",
       " 'SYMPTOM_AND_DISEASE, 29.4%',\n",
       " 'PATIENT_ID, 8.9%',\n",
       " 'ORGANIZATION, 6.0%',\n",
       " 'JOB, 5.1%',\n",
       " 'DATE, 2.6%',\n",
       " 'NAME, 0.9%',\n",
       " 'AGE, 0.4%',\n",
       " 'GENDER, 0.0%',\n",
       " 'TRANSPORTATION, 0.0%']"
      ]
     },
     "metadata": {},
     "execution_count": 45
    }
   ]
  },
  {
   "cell_type": "code",
   "source": [
    "import matplotlib.patches\n",
    "\n",
    "plt.gca().axis(\"equal\")\n",
    "temp_labels = df_wrongrange['Tag'].values.tolist()\n",
    "pie = plt.pie(df_wrongrange.iloc[:, -1], startangle=90, wedgeprops={'linewidth': 1, \"edgecolor\": \"k\"}, colors=[colors[key] for key in temp_labels])\n",
    "handles = []\n",
    "\n",
    "for i, l in enumerate(labels):\n",
    "    handles.append(matplotlib.patches.Patch(color=plt.cm.Set3((i) / 8.), label=l))\n",
    "plt.legend(labels, bbox_to_anchor=(1, 0), loc=\"lower right\",\n",
    "           bbox_transform=plt.gcf().transFigure)\n",
    "#plt.gcf().text(0.93,0.04,\"* out of competition since 2006\", ha=\"right\")\n",
    "#plt.title(\"Error percentage of No_extraction of PHOBERT\",loc=\"center\",fontsize=17)\n",
    "plt.subplots_adjust(left=0.1, bottom=0.1, right=0.54)\n",
    "plt.savefig('wrongrange.png', bbox_inches='tight', dpi=300)"
   ],
   "metadata": {
    "colab": {
     "base_uri": "https://localhost:8080/",
     "height": 279
    },
    "outputId": "1648a601-6334-42c6-c0ab-39348c961960",
    "id": "lolTJVsSFQ1e"
   },
   "execution_count": null,
   "outputs": [
    {
     "output_type": "display_data",
     "data": {
      "image/png": "[encoded data removed]",
      "text/plain": [
       "<Figure size 432x288 with 1 Axes>"
      ]
     },
     "metadata": {}
    }
   ]
  },
  {
   "cell_type": "markdown",
   "source": [
    "##Wrong Range and tag"
   ],
   "metadata": {
    "id": "s3fOtO9EF8yO"
   }
  },
  {
   "cell_type": "code",
   "source": [
    "df_wrongrange_tag = df_final[[\"Tag\", \"Wrong Range and tag\"]]\n",
    "df_wrongrange_tag"
   ],
   "metadata": {
    "colab": {
     "base_uri": "https://localhost:8080/",
     "height": 390
    },
    "outputId": "4a0fda08-cfc7-4ed1-8faa-276d3c9af561",
    "id": "sUEdlcIHF8yO"
   },
   "execution_count": null,
   "outputs": [
    {
     "output_type": "execute_result",
     "data": {
      "text/html": [
       "\n",
       "  <div id=\"df-7b0d6fbb-c887-434b-87fb-822efb4b8bbb\">\n",
       "    <div class=\"colab-df-container\">\n",
       "      <div>\n",
       "<style scoped>\n",
       "    .dataframe tbody tr th:only-of-type {\n",
       "        vertical-align: middle;\n",
       "    }\n",
       "\n",
       "    .dataframe tbody tr th {\n",
       "        vertical-align: top;\n",
       "    }\n",
       "\n",
       "    .dataframe thead th {\n",
       "        text-align: right;\n",
       "    }\n",
       "</style>\n",
       "<table border=\"1\" class=\"dataframe\">\n",
       "  <thead>\n",
       "    <tr style=\"text-align: right;\">\n",
       "      <th></th>\n",
       "      <th>Tag</th>\n",
       "      <th>Wrong Range and tag</th>\n",
       "    </tr>\n",
       "  </thead>\n",
       "  <tbody>\n",
       "    <tr>\n",
       "      <th>0</th>\n",
       "      <td>PATIENT_ID</td>\n",
       "      <td>1</td>\n",
       "    </tr>\n",
       "    <tr>\n",
       "      <th>1</th>\n",
       "      <td>NAME</td>\n",
       "      <td>0</td>\n",
       "    </tr>\n",
       "    <tr>\n",
       "      <th>2</th>\n",
       "      <td>AGE</td>\n",
       "      <td>2</td>\n",
       "    </tr>\n",
       "    <tr>\n",
       "      <th>3</th>\n",
       "      <td>GENDER</td>\n",
       "      <td>0</td>\n",
       "    </tr>\n",
       "    <tr>\n",
       "      <th>4</th>\n",
       "      <td>JOB</td>\n",
       "      <td>0</td>\n",
       "    </tr>\n",
       "    <tr>\n",
       "      <th>5</th>\n",
       "      <td>LOCATION</td>\n",
       "      <td>5</td>\n",
       "    </tr>\n",
       "    <tr>\n",
       "      <th>6</th>\n",
       "      <td>ORGANIZATION</td>\n",
       "      <td>6</td>\n",
       "    </tr>\n",
       "    <tr>\n",
       "      <th>7</th>\n",
       "      <td>SYMPTOM_AND_DISEASE</td>\n",
       "      <td>0</td>\n",
       "    </tr>\n",
       "    <tr>\n",
       "      <th>8</th>\n",
       "      <td>TRANSPORTATION</td>\n",
       "      <td>0</td>\n",
       "    </tr>\n",
       "    <tr>\n",
       "      <th>9</th>\n",
       "      <td>DATE</td>\n",
       "      <td>0</td>\n",
       "    </tr>\n",
       "    <tr>\n",
       "      <th>10</th>\n",
       "      <td>Total</td>\n",
       "      <td>14</td>\n",
       "    </tr>\n",
       "  </tbody>\n",
       "</table>\n",
       "</div>\n",
       "      <button class=\"colab-df-convert\" onclick=\"convertToInteractive('df-7b0d6fbb-c887-434b-87fb-822efb4b8bbb')\"\n",
       "              title=\"Convert this dataframe to an interactive table.\"\n",
       "              style=\"display:none;\">\n",
       "        \n",
       "  <svg xmlns=\"http://www.w3.org/2000/svg\" height=\"24px\"viewBox=\"0 0 24 24\"\n",
       "       width=\"24px\">\n",
       "    <path d=\"M0 0h24v24H0V0z\" fill=\"none\"/>\n",
       "    <path d=\"M18.56 5.44l.94 2.06.94-2.06 2.06-.94-2.06-.94-.94-2.06-.94 2.06-2.06.94zm-11 1L8.5 8.5l.94-2.06 2.06-.94-2.06-.94L8.5 2.5l-.94 2.06-2.06.94zm10 10l.94 2.06.94-2.06 2.06-.94-2.06-.94-.94-2.06-.94 2.06-2.06.94z\"/><path d=\"M17.41 7.96l-1.37-1.37c-.4-.4-.92-.59-1.43-.59-.52 0-1.04.2-1.43.59L10.3 9.45l-7.72 7.72c-.78.78-.78 2.05 0 2.83L4 21.41c.39.39.9.59 1.41.59.51 0 1.02-.2 1.41-.59l7.78-7.78 2.81-2.81c.8-.78.8-2.07 0-2.86zM5.41 20L4 18.59l7.72-7.72 1.47 1.35L5.41 20z\"/>\n",
       "  </svg>\n",
       "      </button>\n",
       "      \n",
       "  <style>\n",
       "    .colab-df-container {\n",
       "      display:flex;\n",
       "      flex-wrap:wrap;\n",
       "      gap: 12px;\n",
       "    }\n",
       "\n",
       "    .colab-df-convert {\n",
       "      background-color: #E8F0FE;\n",
       "      border: none;\n",
       "      border-radius: 50%;\n",
       "      cursor: pointer;\n",
       "      display: none;\n",
       "      fill: #1967D2;\n",
       "      height: 32px;\n",
       "      padding: 0 0 0 0;\n",
       "      width: 32px;\n",
       "    }\n",
       "\n",
       "    .colab-df-convert:hover {\n",
       "      background-color: #E2EBFA;\n",
       "      box-shadow: 0px 1px 2px rgba(60, 64, 67, 0.3), 0px 1px 3px 1px rgba(60, 64, 67, 0.15);\n",
       "      fill: #174EA6;\n",
       "    }\n",
       "\n",
       "    [theme=dark] .colab-df-convert {\n",
       "      background-color: #3B4455;\n",
       "      fill: #D2E3FC;\n",
       "    }\n",
       "\n",
       "    [theme=dark] .colab-df-convert:hover {\n",
       "      background-color: #434B5C;\n",
       "      box-shadow: 0px 1px 3px 1px rgba(0, 0, 0, 0.15);\n",
       "      filter: drop-shadow(0px 1px 2px rgba(0, 0, 0, 0.3));\n",
       "      fill: #FFFFFF;\n",
       "    }\n",
       "  </style>\n",
       "\n",
       "      <script>\n",
       "        const buttonEl =\n",
       "          document.querySelector('#df-7b0d6fbb-c887-434b-87fb-822efb4b8bbb button.colab-df-convert');\n",
       "        buttonEl.style.display =\n",
       "          google.colab.kernel.accessAllowed ? 'block' : 'none';\n",
       "\n",
       "        async function convertToInteractive(key) {\n",
       "          const element = document.querySelector('#df-7b0d6fbb-c887-434b-87fb-822efb4b8bbb');\n",
       "          const dataTable =\n",
       "            await google.colab.kernel.invokeFunction('convertToInteractive',\n",
       "                                                     [key], {});\n",
       "          if (!dataTable) return;\n",
       "\n",
       "          const docLinkHtml = 'Like what you see? Visit the ' +\n",
       "            '<a target=\"_blank\" href=https://colab.research.google.com/notebooks/data_table.ipynb>data table notebook</a>'\n",
       "            + ' to learn more about interactive tables.';\n",
       "          element.innerHTML = '';\n",
       "          dataTable['output_type'] = 'display_data';\n",
       "          await google.colab.output.renderOutput(dataTable, element);\n",
       "          const docLink = document.createElement('div');\n",
       "          docLink.innerHTML = docLinkHtml;\n",
       "          element.appendChild(docLink);\n",
       "        }\n",
       "      </script>\n",
       "    </div>\n",
       "  </div>\n",
       "  "
      ],
      "text/plain": [
       "                    Tag  Wrong Range and tag\n",
       "0            PATIENT_ID                    1\n",
       "1                  NAME                    0\n",
       "2                   AGE                    2\n",
       "3                GENDER                    0\n",
       "4                   JOB                    0\n",
       "5              LOCATION                    5\n",
       "6          ORGANIZATION                    6\n",
       "7   SYMPTOM_AND_DISEASE                    0\n",
       "8        TRANSPORTATION                    0\n",
       "9                  DATE                    0\n",
       "10                Total                   14"
      ]
     },
     "metadata": {},
     "execution_count": 47
    }
   ]
  },
  {
   "cell_type": "code",
   "source": [
    "df_wrongrange_tag.sort_values(\"Wrong Range and tag\", ascending=False, inplace=True, ignore_index=True)\n",
    "wrongrange_tag_sum = df_wrongrange_tag.iloc[0, -1]\n",
    "df_wrongrange_tag.drop(0, inplace=True)"
   ],
   "metadata": {
    "colab": {
     "base_uri": "https://localhost:8080/"
    },
    "outputId": "651e96b3-d950-4e44-e897-b82ba9f70a9a",
    "id": "la0rFOSyF8yP"
   },
   "execution_count": null,
   "outputs": [
    {
     "output_type": "stream",
     "name": "stderr",
     "text": [
      "/usr/local/lib/python3.7/dist-packages/ipykernel_launcher.py:1: SettingWithCopyWarning: \n",
      "A value is trying to be set on a copy of a slice from a DataFrame\n",
      "\n",
      "See the caveats in the documentation: https://pandas.pydata.org/pandas-docs/stable/user_guide/indexing.html#returning-a-view-versus-a-copy\n",
      "  \"\"\"Entry point for launching an IPython kernel.\n",
      "/usr/local/lib/python3.7/dist-packages/pandas/core/frame.py:4174: SettingWithCopyWarning: \n",
      "A value is trying to be set on a copy of a slice from a DataFrame\n",
      "\n",
      "See the caveats in the documentation: https://pandas.pydata.org/pandas-docs/stable/user_guide/indexing.html#returning-a-view-versus-a-copy\n",
      "  errors=errors,\n"
     ]
    }
   ]
  },
  {
   "cell_type": "code",
   "source": [
    "df_wrongrange_tag"
   ],
   "metadata": {
    "colab": {
     "base_uri": "https://localhost:8080/",
     "height": 359
    },
    "outputId": "12dd4e91-ca07-4fc6-8ca8-d8836398558c",
    "id": "T1YkMRCAF8yP"
   },
   "execution_count": null,
   "outputs": [
    {
     "output_type": "execute_result",
     "data": {
      "text/html": [
       "\n",
       "  <div id=\"df-c102b7fa-98c6-46b3-8541-8dd15fe8153d\">\n",
       "    <div class=\"colab-df-container\">\n",
       "      <div>\n",
       "<style scoped>\n",
       "    .dataframe tbody tr th:only-of-type {\n",
       "        vertical-align: middle;\n",
       "    }\n",
       "\n",
       "    .dataframe tbody tr th {\n",
       "        vertical-align: top;\n",
       "    }\n",
       "\n",
       "    .dataframe thead th {\n",
       "        text-align: right;\n",
       "    }\n",
       "</style>\n",
       "<table border=\"1\" class=\"dataframe\">\n",
       "  <thead>\n",
       "    <tr style=\"text-align: right;\">\n",
       "      <th></th>\n",
       "      <th>Tag</th>\n",
       "      <th>Wrong Range and tag</th>\n",
       "    </tr>\n",
       "  </thead>\n",
       "  <tbody>\n",
       "    <tr>\n",
       "      <th>1</th>\n",
       "      <td>ORGANIZATION</td>\n",
       "      <td>6</td>\n",
       "    </tr>\n",
       "    <tr>\n",
       "      <th>2</th>\n",
       "      <td>LOCATION</td>\n",
       "      <td>5</td>\n",
       "    </tr>\n",
       "    <tr>\n",
       "      <th>3</th>\n",
       "      <td>AGE</td>\n",
       "      <td>2</td>\n",
       "    </tr>\n",
       "    <tr>\n",
       "      <th>4</th>\n",
       "      <td>PATIENT_ID</td>\n",
       "      <td>1</td>\n",
       "    </tr>\n",
       "    <tr>\n",
       "      <th>5</th>\n",
       "      <td>NAME</td>\n",
       "      <td>0</td>\n",
       "    </tr>\n",
       "    <tr>\n",
       "      <th>6</th>\n",
       "      <td>GENDER</td>\n",
       "      <td>0</td>\n",
       "    </tr>\n",
       "    <tr>\n",
       "      <th>7</th>\n",
       "      <td>JOB</td>\n",
       "      <td>0</td>\n",
       "    </tr>\n",
       "    <tr>\n",
       "      <th>8</th>\n",
       "      <td>SYMPTOM_AND_DISEASE</td>\n",
       "      <td>0</td>\n",
       "    </tr>\n",
       "    <tr>\n",
       "      <th>9</th>\n",
       "      <td>TRANSPORTATION</td>\n",
       "      <td>0</td>\n",
       "    </tr>\n",
       "    <tr>\n",
       "      <th>10</th>\n",
       "      <td>DATE</td>\n",
       "      <td>0</td>\n",
       "    </tr>\n",
       "  </tbody>\n",
       "</table>\n",
       "</div>\n",
       "      <button class=\"colab-df-convert\" onclick=\"convertToInteractive('df-c102b7fa-98c6-46b3-8541-8dd15fe8153d')\"\n",
       "              title=\"Convert this dataframe to an interactive table.\"\n",
       "              style=\"display:none;\">\n",
       "        \n",
       "  <svg xmlns=\"http://www.w3.org/2000/svg\" height=\"24px\"viewBox=\"0 0 24 24\"\n",
       "       width=\"24px\">\n",
       "    <path d=\"M0 0h24v24H0V0z\" fill=\"none\"/>\n",
       "    <path d=\"M18.56 5.44l.94 2.06.94-2.06 2.06-.94-2.06-.94-.94-2.06-.94 2.06-2.06.94zm-11 1L8.5 8.5l.94-2.06 2.06-.94-2.06-.94L8.5 2.5l-.94 2.06-2.06.94zm10 10l.94 2.06.94-2.06 2.06-.94-2.06-.94-.94-2.06-.94 2.06-2.06.94z\"/><path d=\"M17.41 7.96l-1.37-1.37c-.4-.4-.92-.59-1.43-.59-.52 0-1.04.2-1.43.59L10.3 9.45l-7.72 7.72c-.78.78-.78 2.05 0 2.83L4 21.41c.39.39.9.59 1.41.59.51 0 1.02-.2 1.41-.59l7.78-7.78 2.81-2.81c.8-.78.8-2.07 0-2.86zM5.41 20L4 18.59l7.72-7.72 1.47 1.35L5.41 20z\"/>\n",
       "  </svg>\n",
       "      </button>\n",
       "      \n",
       "  <style>\n",
       "    .colab-df-container {\n",
       "      display:flex;\n",
       "      flex-wrap:wrap;\n",
       "      gap: 12px;\n",
       "    }\n",
       "\n",
       "    .colab-df-convert {\n",
       "      background-color: #E8F0FE;\n",
       "      border: none;\n",
       "      border-radius: 50%;\n",
       "      cursor: pointer;\n",
       "      display: none;\n",
       "      fill: #1967D2;\n",
       "      height: 32px;\n",
       "      padding: 0 0 0 0;\n",
       "      width: 32px;\n",
       "    }\n",
       "\n",
       "    .colab-df-convert:hover {\n",
       "      background-color: #E2EBFA;\n",
       "      box-shadow: 0px 1px 2px rgba(60, 64, 67, 0.3), 0px 1px 3px 1px rgba(60, 64, 67, 0.15);\n",
       "      fill: #174EA6;\n",
       "    }\n",
       "\n",
       "    [theme=dark] .colab-df-convert {\n",
       "      background-color: #3B4455;\n",
       "      fill: #D2E3FC;\n",
       "    }\n",
       "\n",
       "    [theme=dark] .colab-df-convert:hover {\n",
       "      background-color: #434B5C;\n",
       "      box-shadow: 0px 1px 3px 1px rgba(0, 0, 0, 0.15);\n",
       "      filter: drop-shadow(0px 1px 2px rgba(0, 0, 0, 0.3));\n",
       "      fill: #FFFFFF;\n",
       "    }\n",
       "  </style>\n",
       "\n",
       "      <script>\n",
       "        const buttonEl =\n",
       "          document.querySelector('#df-c102b7fa-98c6-46b3-8541-8dd15fe8153d button.colab-df-convert');\n",
       "        buttonEl.style.display =\n",
       "          google.colab.kernel.accessAllowed ? 'block' : 'none';\n",
       "\n",
       "        async function convertToInteractive(key) {\n",
       "          const element = document.querySelector('#df-c102b7fa-98c6-46b3-8541-8dd15fe8153d');\n",
       "          const dataTable =\n",
       "            await google.colab.kernel.invokeFunction('convertToInteractive',\n",
       "                                                     [key], {});\n",
       "          if (!dataTable) return;\n",
       "\n",
       "          const docLinkHtml = 'Like what you see? Visit the ' +\n",
       "            '<a target=\"_blank\" href=https://colab.research.google.com/notebooks/data_table.ipynb>data table notebook</a>'\n",
       "            + ' to learn more about interactive tables.';\n",
       "          element.innerHTML = '';\n",
       "          dataTable['output_type'] = 'display_data';\n",
       "          await google.colab.output.renderOutput(dataTable, element);\n",
       "          const docLink = document.createElement('div');\n",
       "          docLink.innerHTML = docLinkHtml;\n",
       "          element.appendChild(docLink);\n",
       "        }\n",
       "      </script>\n",
       "    </div>\n",
       "  </div>\n",
       "  "
      ],
      "text/plain": [
       "                    Tag  Wrong Range and tag\n",
       "1          ORGANIZATION                    6\n",
       "2              LOCATION                    5\n",
       "3                   AGE                    2\n",
       "4            PATIENT_ID                    1\n",
       "5                  NAME                    0\n",
       "6                GENDER                    0\n",
       "7                   JOB                    0\n",
       "8   SYMPTOM_AND_DISEASE                    0\n",
       "9        TRANSPORTATION                    0\n",
       "10                 DATE                    0"
      ]
     },
     "metadata": {},
     "execution_count": 49
    }
   ]
  },
  {
   "cell_type": "code",
   "source": [
    "labels = [f'{l}, {s * 100 / (wrongrange_tag_sum):0.1f}%' for l, s in zip(df_wrongrange_tag[\"Tag\"], df_wrongrange_tag[\"Wrong Range and tag\"])]"
   ],
   "metadata": {
    "id": "a1pdXnRFF8yP"
   },
   "execution_count": null,
   "outputs": []
  },
  {
   "cell_type": "code",
   "source": [
    "labels"
   ],
   "metadata": {
    "colab": {
     "base_uri": "https://localhost:8080/"
    },
    "outputId": "c6a60c24-7724-4001-f07c-b2174aa156b8",
    "id": "lRztFIJKF8yP"
   },
   "execution_count": null,
   "outputs": [
    {
     "output_type": "execute_result",
     "data": {
      "text/plain": [
       "['ORGANIZATION, 42.9%',\n",
       " 'LOCATION, 35.7%',\n",
       " 'AGE, 14.3%',\n",
       " 'PATIENT_ID, 7.1%',\n",
       " 'NAME, 0.0%',\n",
       " 'GENDER, 0.0%',\n",
       " 'JOB, 0.0%',\n",
       " 'SYMPTOM_AND_DISEASE, 0.0%',\n",
       " 'TRANSPORTATION, 0.0%',\n",
       " 'DATE, 0.0%']"
      ]
     },
     "metadata": {},
     "execution_count": 51
    }
   ]
  },
  {
   "cell_type": "code",
   "source": [
    "import matplotlib.patches\n",
    "\n",
    "plt.gca().axis(\"equal\")\n",
    "temp_labels = df_wrongrange_tag['Tag'].values.tolist()\n",
    "pie = plt.pie(df_wrongrange_tag.iloc[:, -1], startangle=90, wedgeprops={'linewidth': 1, \"edgecolor\": \"k\"}, colors=[colors[key] for key in temp_labels])\n",
    "handles = []\n",
    "\n",
    "for i, l in enumerate(labels):\n",
    "    handles.append(matplotlib.patches.Patch(color=plt.cm.Set3((i) / 8.), label=l))\n",
    "plt.legend(labels, bbox_to_anchor=(1, 0), loc=\"lower right\",\n",
    "           bbox_transform=plt.gcf().transFigure)\n",
    "#plt.gcf().text(0.93,0.04,\"* out of competition since 2006\", ha=\"right\")\n",
    "#plt.title(\"Error percentage of No_extraction of PHOBERT\",loc=\"center\",fontsize=17)\n",
    "plt.subplots_adjust(left=0.1, bottom=0.1, right=0.54)\n",
    "plt.savefig('wrongrange_tag.png', bbox_inches='tight', dpi=300)"
   ],
   "metadata": {
    "colab": {
     "base_uri": "https://localhost:8080/",
     "height": 279
    },
    "outputId": "857a0f3a-430f-4aa2-9258-c87dbc59244a",
    "id": "CuHSImyxF8yQ"
   },
   "execution_count": null,
   "outputs": [
    {
     "output_type": "display_data",
     "data": {
      "image/png": "[encoded data removed]",
      "text/plain": [
       "<Figure size 432x288 with 1 Axes>"
      ]
     },
     "metadata": {}
    }
   ]
  },
  {
   "cell_type": "markdown",
   "source": [
    "#BiLSTM"
   ],
   "metadata": {
    "id": "3_kLUDSrmPnL"
   }
  },
  {
   "cell_type": "code",
   "source": [
    "df_final_bi = pd.read_csv(\"/content/df_error_types_bilstm_gold_summary.csv\")\n",
    "\n",
    "colors_error_types = {'No Extraction': 'C0',\n",
    "                      'No Annotation': 'C1',\n",
    "                      'Wrong Range': 'C2',\n",
    "                      'Wrong Tag': 'C3',\n",
    "                      'Wrong Range and tag': 'C4'}\n",
    "\n",
    "colors = {\n",
    "        'DATE': '#EA2F86',  # https://www.schemecolor.com/bright-rainbow-gradient.php\n",
    "        'GENDER': '#F09C0A',\n",
    "        'JOB': '#FAE000',\n",
    "        'LOCATION': '#93E223',\n",
    "        'NAME': '#4070D3',\n",
    "        'AGE': '#9925be',\n",
    "        'O': '#7B7D70',  # màu gray ở https://www.schemecolor.com/rural-stay.php\n",
    "        'ORGANIZATION': '#493C9E',\n",
    "        'PATIENT_ID': '#ED3D07',  # màu đỏ https://www.schemecolor.com/bright-summer-beach.php\n",
    "        'SYMPTOM_AND_DISEASE': '#F2E8D8',  # https://www.schemecolor.com/pastels-for-men.php\n",
    "        'TRANSPORTATION': '#C4A69B'}\n"
   ],
   "metadata": {
    "id": "HYdF8xgkmPnV"
   },
   "execution_count": null,
   "outputs": []
  },
  {
   "cell_type": "code",
   "source": [
    "df_final_bi"
   ],
   "metadata": {
    "colab": {
     "base_uri": "https://localhost:8080/",
     "height": 394
    },
    "id": "i22Wt-oL_FBX",
    "outputId": "b1e362a2-db72-4440-9694-33c530519dde"
   },
   "execution_count": null,
   "outputs": [
    {
     "output_type": "execute_result",
     "data": {
      "text/html": [
       "\n",
       "  <div id=\"df-0ea96dfb-e8a5-45cd-aa8a-7299917abad7\">\n",
       "    <div class=\"colab-df-container\">\n",
       "      <div>\n",
       "<style scoped>\n",
       "    .dataframe tbody tr th:only-of-type {\n",
       "        vertical-align: middle;\n",
       "    }\n",
       "\n",
       "    .dataframe tbody tr th {\n",
       "        vertical-align: top;\n",
       "    }\n",
       "\n",
       "    .dataframe thead th {\n",
       "        text-align: right;\n",
       "    }\n",
       "</style>\n",
       "<table border=\"1\" class=\"dataframe\">\n",
       "  <thead>\n",
       "    <tr style=\"text-align: right;\">\n",
       "      <th></th>\n",
       "      <th>Tag</th>\n",
       "      <th>Total</th>\n",
       "      <th>Errors</th>\n",
       "      <th>No Extraction</th>\n",
       "      <th>No Annotation</th>\n",
       "      <th>Wrong Range</th>\n",
       "      <th>Wrong Tag</th>\n",
       "      <th>Wrong Range and tag</th>\n",
       "    </tr>\n",
       "  </thead>\n",
       "  <tbody>\n",
       "    <tr>\n",
       "      <th>0</th>\n",
       "      <td>PATIENT_ID</td>\n",
       "      <td>2005</td>\n",
       "      <td>40</td>\n",
       "      <td>12</td>\n",
       "      <td>23</td>\n",
       "      <td>20</td>\n",
       "      <td>7</td>\n",
       "      <td>1</td>\n",
       "    </tr>\n",
       "    <tr>\n",
       "      <th>1</th>\n",
       "      <td>NAME</td>\n",
       "      <td>318</td>\n",
       "      <td>55</td>\n",
       "      <td>47</td>\n",
       "      <td>5</td>\n",
       "      <td>4</td>\n",
       "      <td>2</td>\n",
       "      <td>2</td>\n",
       "    </tr>\n",
       "    <tr>\n",
       "      <th>2</th>\n",
       "      <td>AGE</td>\n",
       "      <td>582</td>\n",
       "      <td>29</td>\n",
       "      <td>25</td>\n",
       "      <td>10</td>\n",
       "      <td>1</td>\n",
       "      <td>1</td>\n",
       "      <td>2</td>\n",
       "    </tr>\n",
       "    <tr>\n",
       "      <th>3</th>\n",
       "      <td>GENDER</td>\n",
       "      <td>462</td>\n",
       "      <td>20</td>\n",
       "      <td>19</td>\n",
       "      <td>19</td>\n",
       "      <td>0</td>\n",
       "      <td>1</td>\n",
       "      <td>0</td>\n",
       "    </tr>\n",
       "    <tr>\n",
       "      <th>4</th>\n",
       "      <td>JOB</td>\n",
       "      <td>173</td>\n",
       "      <td>73</td>\n",
       "      <td>59</td>\n",
       "      <td>25</td>\n",
       "      <td>11</td>\n",
       "      <td>1</td>\n",
       "      <td>2</td>\n",
       "    </tr>\n",
       "    <tr>\n",
       "      <th>5</th>\n",
       "      <td>LOCATION</td>\n",
       "      <td>4441</td>\n",
       "      <td>316</td>\n",
       "      <td>120</td>\n",
       "      <td>34</td>\n",
       "      <td>137</td>\n",
       "      <td>45</td>\n",
       "      <td>14</td>\n",
       "    </tr>\n",
       "    <tr>\n",
       "      <th>6</th>\n",
       "      <td>ORGANIZATION</td>\n",
       "      <td>771</td>\n",
       "      <td>131</td>\n",
       "      <td>35</td>\n",
       "      <td>15</td>\n",
       "      <td>27</td>\n",
       "      <td>47</td>\n",
       "      <td>22</td>\n",
       "    </tr>\n",
       "    <tr>\n",
       "      <th>7</th>\n",
       "      <td>SYMPTOM_AND_DISEASE</td>\n",
       "      <td>1136</td>\n",
       "      <td>234</td>\n",
       "      <td>155</td>\n",
       "      <td>33</td>\n",
       "      <td>76</td>\n",
       "      <td>1</td>\n",
       "      <td>2</td>\n",
       "    </tr>\n",
       "    <tr>\n",
       "      <th>8</th>\n",
       "      <td>TRANSPORTATION</td>\n",
       "      <td>193</td>\n",
       "      <td>28</td>\n",
       "      <td>8</td>\n",
       "      <td>0</td>\n",
       "      <td>1</td>\n",
       "      <td>13</td>\n",
       "      <td>6</td>\n",
       "    </tr>\n",
       "    <tr>\n",
       "      <th>9</th>\n",
       "      <td>DATE</td>\n",
       "      <td>1654</td>\n",
       "      <td>27</td>\n",
       "      <td>14</td>\n",
       "      <td>17</td>\n",
       "      <td>4</td>\n",
       "      <td>7</td>\n",
       "      <td>2</td>\n",
       "    </tr>\n",
       "    <tr>\n",
       "      <th>10</th>\n",
       "      <td>Total</td>\n",
       "      <td>11735</td>\n",
       "      <td>1134</td>\n",
       "      <td>494</td>\n",
       "      <td>181</td>\n",
       "      <td>281</td>\n",
       "      <td>125</td>\n",
       "      <td>53</td>\n",
       "    </tr>\n",
       "  </tbody>\n",
       "</table>\n",
       "</div>\n",
       "      <button class=\"colab-df-convert\" onclick=\"convertToInteractive('df-0ea96dfb-e8a5-45cd-aa8a-7299917abad7')\"\n",
       "              title=\"Convert this dataframe to an interactive table.\"\n",
       "              style=\"display:none;\">\n",
       "        \n",
       "  <svg xmlns=\"http://www.w3.org/2000/svg\" height=\"24px\"viewBox=\"0 0 24 24\"\n",
       "       width=\"24px\">\n",
       "    <path d=\"M0 0h24v24H0V0z\" fill=\"none\"/>\n",
       "    <path d=\"M18.56 5.44l.94 2.06.94-2.06 2.06-.94-2.06-.94-.94-2.06-.94 2.06-2.06.94zm-11 1L8.5 8.5l.94-2.06 2.06-.94-2.06-.94L8.5 2.5l-.94 2.06-2.06.94zm10 10l.94 2.06.94-2.06 2.06-.94-2.06-.94-.94-2.06-.94 2.06-2.06.94z\"/><path d=\"M17.41 7.96l-1.37-1.37c-.4-.4-.92-.59-1.43-.59-.52 0-1.04.2-1.43.59L10.3 9.45l-7.72 7.72c-.78.78-.78 2.05 0 2.83L4 21.41c.39.39.9.59 1.41.59.51 0 1.02-.2 1.41-.59l7.78-7.78 2.81-2.81c.8-.78.8-2.07 0-2.86zM5.41 20L4 18.59l7.72-7.72 1.47 1.35L5.41 20z\"/>\n",
       "  </svg>\n",
       "      </button>\n",
       "      \n",
       "  <style>\n",
       "    .colab-df-container {\n",
       "      display:flex;\n",
       "      flex-wrap:wrap;\n",
       "      gap: 12px;\n",
       "    }\n",
       "\n",
       "    .colab-df-convert {\n",
       "      background-color: #E8F0FE;\n",
       "      border: none;\n",
       "      border-radius: 50%;\n",
       "      cursor: pointer;\n",
       "      display: none;\n",
       "      fill: #1967D2;\n",
       "      height: 32px;\n",
       "      padding: 0 0 0 0;\n",
       "      width: 32px;\n",
       "    }\n",
       "\n",
       "    .colab-df-convert:hover {\n",
       "      background-color: #E2EBFA;\n",
       "      box-shadow: 0px 1px 2px rgba(60, 64, 67, 0.3), 0px 1px 3px 1px rgba(60, 64, 67, 0.15);\n",
       "      fill: #174EA6;\n",
       "    }\n",
       "\n",
       "    [theme=dark] .colab-df-convert {\n",
       "      background-color: #3B4455;\n",
       "      fill: #D2E3FC;\n",
       "    }\n",
       "\n",
       "    [theme=dark] .colab-df-convert:hover {\n",
       "      background-color: #434B5C;\n",
       "      box-shadow: 0px 1px 3px 1px rgba(0, 0, 0, 0.15);\n",
       "      filter: drop-shadow(0px 1px 2px rgba(0, 0, 0, 0.3));\n",
       "      fill: #FFFFFF;\n",
       "    }\n",
       "  </style>\n",
       "\n",
       "      <script>\n",
       "        const buttonEl =\n",
       "          document.querySelector('#df-0ea96dfb-e8a5-45cd-aa8a-7299917abad7 button.colab-df-convert');\n",
       "        buttonEl.style.display =\n",
       "          google.colab.kernel.accessAllowed ? 'block' : 'none';\n",
       "\n",
       "        async function convertToInteractive(key) {\n",
       "          const element = document.querySelector('#df-0ea96dfb-e8a5-45cd-aa8a-7299917abad7');\n",
       "          const dataTable =\n",
       "            await google.colab.kernel.invokeFunction('convertToInteractive',\n",
       "                                                     [key], {});\n",
       "          if (!dataTable) return;\n",
       "\n",
       "          const docLinkHtml = 'Like what you see? Visit the ' +\n",
       "            '<a target=\"_blank\" href=https://colab.research.google.com/notebooks/data_table.ipynb>data table notebook</a>'\n",
       "            + ' to learn more about interactive tables.';\n",
       "          element.innerHTML = '';\n",
       "          dataTable['output_type'] = 'display_data';\n",
       "          await google.colab.output.renderOutput(dataTable, element);\n",
       "          const docLink = document.createElement('div');\n",
       "          docLink.innerHTML = docLinkHtml;\n",
       "          element.appendChild(docLink);\n",
       "        }\n",
       "      </script>\n",
       "    </div>\n",
       "  </div>\n",
       "  "
      ],
      "text/plain": [
       "                    Tag  Total  ...  Wrong Tag  Wrong Range and tag\n",
       "0            PATIENT_ID   2005  ...          7                    1\n",
       "1                  NAME    318  ...          2                    2\n",
       "2                   AGE    582  ...          1                    2\n",
       "3                GENDER    462  ...          1                    0\n",
       "4                   JOB    173  ...          1                    2\n",
       "5              LOCATION   4441  ...         45                   14\n",
       "6          ORGANIZATION    771  ...         47                   22\n",
       "7   SYMPTOM_AND_DISEASE   1136  ...          1                    2\n",
       "8        TRANSPORTATION    193  ...         13                    6\n",
       "9                  DATE   1654  ...          7                    2\n",
       "10                Total  11735  ...        125                   53\n",
       "\n",
       "[11 rows x 8 columns]"
      ]
     },
     "metadata": {},
     "execution_count": 10
    }
   ]
  },
  {
   "cell_type": "markdown",
   "source": [
    "##Tổng hợp"
   ],
   "metadata": {
    "id": "4UbP-3gwmPnW"
   }
  },
  {
   "cell_type": "code",
   "source": [
    "df_all = df_final_bi.drop([0, 1, 2, 3, 4, 5, 6, 7, 8, 9])"
   ],
   "metadata": {
    "id": "AvLq1QwDmPnW"
   },
   "execution_count": null,
   "outputs": []
  },
  {
   "cell_type": "code",
   "source": [
    "df_all"
   ],
   "metadata": {
    "colab": {
     "base_uri": "https://localhost:8080/",
     "height": 81
    },
    "outputId": "0ff8149f-2a04-4119-c266-d0aed8eb8681",
    "id": "7S_E7-6-mPnW"
   },
   "execution_count": null,
   "outputs": [
    {
     "output_type": "execute_result",
     "data": {
      "text/html": [
       "\n",
       "  <div id=\"df-2332718d-34fa-46bb-8ed7-0019a2069a31\">\n",
       "    <div class=\"colab-df-container\">\n",
       "      <div>\n",
       "<style scoped>\n",
       "    .dataframe tbody tr th:only-of-type {\n",
       "        vertical-align: middle;\n",
       "    }\n",
       "\n",
       "    .dataframe tbody tr th {\n",
       "        vertical-align: top;\n",
       "    }\n",
       "\n",
       "    .dataframe thead th {\n",
       "        text-align: right;\n",
       "    }\n",
       "</style>\n",
       "<table border=\"1\" class=\"dataframe\">\n",
       "  <thead>\n",
       "    <tr style=\"text-align: right;\">\n",
       "      <th></th>\n",
       "      <th>Tag</th>\n",
       "      <th>Total</th>\n",
       "      <th>Errors</th>\n",
       "      <th>No Extraction</th>\n",
       "      <th>No Annotation</th>\n",
       "      <th>Wrong Range</th>\n",
       "      <th>Wrong Tag</th>\n",
       "      <th>Wrong Range and tag</th>\n",
       "    </tr>\n",
       "  </thead>\n",
       "  <tbody>\n",
       "    <tr>\n",
       "      <th>10</th>\n",
       "      <td>Total</td>\n",
       "      <td>11735</td>\n",
       "      <td>1134</td>\n",
       "      <td>494</td>\n",
       "      <td>181</td>\n",
       "      <td>281</td>\n",
       "      <td>125</td>\n",
       "      <td>53</td>\n",
       "    </tr>\n",
       "  </tbody>\n",
       "</table>\n",
       "</div>\n",
       "      <button class=\"colab-df-convert\" onclick=\"convertToInteractive('df-2332718d-34fa-46bb-8ed7-0019a2069a31')\"\n",
       "              title=\"Convert this dataframe to an interactive table.\"\n",
       "              style=\"display:none;\">\n",
       "        \n",
       "  <svg xmlns=\"http://www.w3.org/2000/svg\" height=\"24px\"viewBox=\"0 0 24 24\"\n",
       "       width=\"24px\">\n",
       "    <path d=\"M0 0h24v24H0V0z\" fill=\"none\"/>\n",
       "    <path d=\"M18.56 5.44l.94 2.06.94-2.06 2.06-.94-2.06-.94-.94-2.06-.94 2.06-2.06.94zm-11 1L8.5 8.5l.94-2.06 2.06-.94-2.06-.94L8.5 2.5l-.94 2.06-2.06.94zm10 10l.94 2.06.94-2.06 2.06-.94-2.06-.94-.94-2.06-.94 2.06-2.06.94z\"/><path d=\"M17.41 7.96l-1.37-1.37c-.4-.4-.92-.59-1.43-.59-.52 0-1.04.2-1.43.59L10.3 9.45l-7.72 7.72c-.78.78-.78 2.05 0 2.83L4 21.41c.39.39.9.59 1.41.59.51 0 1.02-.2 1.41-.59l7.78-7.78 2.81-2.81c.8-.78.8-2.07 0-2.86zM5.41 20L4 18.59l7.72-7.72 1.47 1.35L5.41 20z\"/>\n",
       "  </svg>\n",
       "      </button>\n",
       "      \n",
       "  <style>\n",
       "    .colab-df-container {\n",
       "      display:flex;\n",
       "      flex-wrap:wrap;\n",
       "      gap: 12px;\n",
       "    }\n",
       "\n",
       "    .colab-df-convert {\n",
       "      background-color: #E8F0FE;\n",
       "      border: none;\n",
       "      border-radius: 50%;\n",
       "      cursor: pointer;\n",
       "      display: none;\n",
       "      fill: #1967D2;\n",
       "      height: 32px;\n",
       "      padding: 0 0 0 0;\n",
       "      width: 32px;\n",
       "    }\n",
       "\n",
       "    .colab-df-convert:hover {\n",
       "      background-color: #E2EBFA;\n",
       "      box-shadow: 0px 1px 2px rgba(60, 64, 67, 0.3), 0px 1px 3px 1px rgba(60, 64, 67, 0.15);\n",
       "      fill: #174EA6;\n",
       "    }\n",
       "\n",
       "    [theme=dark] .colab-df-convert {\n",
       "      background-color: #3B4455;\n",
       "      fill: #D2E3FC;\n",
       "    }\n",
       "\n",
       "    [theme=dark] .colab-df-convert:hover {\n",
       "      background-color: #434B5C;\n",
       "      box-shadow: 0px 1px 3px 1px rgba(0, 0, 0, 0.15);\n",
       "      filter: drop-shadow(0px 1px 2px rgba(0, 0, 0, 0.3));\n",
       "      fill: #FFFFFF;\n",
       "    }\n",
       "  </style>\n",
       "\n",
       "      <script>\n",
       "        const buttonEl =\n",
       "          document.querySelector('#df-2332718d-34fa-46bb-8ed7-0019a2069a31 button.colab-df-convert');\n",
       "        buttonEl.style.display =\n",
       "          google.colab.kernel.accessAllowed ? 'block' : 'none';\n",
       "\n",
       "        async function convertToInteractive(key) {\n",
       "          const element = document.querySelector('#df-2332718d-34fa-46bb-8ed7-0019a2069a31');\n",
       "          const dataTable =\n",
       "            await google.colab.kernel.invokeFunction('convertToInteractive',\n",
       "                                                     [key], {});\n",
       "          if (!dataTable) return;\n",
       "\n",
       "          const docLinkHtml = 'Like what you see? Visit the ' +\n",
       "            '<a target=\"_blank\" href=https://colab.research.google.com/notebooks/data_table.ipynb>data table notebook</a>'\n",
       "            + ' to learn more about interactive tables.';\n",
       "          element.innerHTML = '';\n",
       "          dataTable['output_type'] = 'display_data';\n",
       "          await google.colab.output.renderOutput(dataTable, element);\n",
       "          const docLink = document.createElement('div');\n",
       "          docLink.innerHTML = docLinkHtml;\n",
       "          element.appendChild(docLink);\n",
       "        }\n",
       "      </script>\n",
       "    </div>\n",
       "  </div>\n",
       "  "
      ],
      "text/plain": [
       "      Tag  Total  Errors  ...  Wrong Range  Wrong Tag  Wrong Range and tag\n",
       "10  Total  11735    1134  ...          281        125                   53\n",
       "\n",
       "[1 rows x 8 columns]"
      ]
     },
     "metadata": {},
     "execution_count": 12
    }
   ]
  },
  {
   "cell_type": "code",
   "source": [
    "name = pd.Series([\"Wrong Range\", 'No Annotation', \"No Extraction\", \"Wrong Tag\", \"Wrong Range and tag\"])\n",
    "value = df_all.loc[:, name].iloc[0, :]\n",
    "value"
   ],
   "metadata": {
    "colab": {
     "base_uri": "https://localhost:8080/"
    },
    "outputId": "dda88a00-a414-4fd1-bdda-f49b1734bbaa",
    "id": "ixTDk2P9mPnX"
   },
   "execution_count": null,
   "outputs": [
    {
     "output_type": "execute_result",
     "data": {
      "text/plain": [
       "Wrong Range            281\n",
       "No Annotation          181\n",
       "No Extraction          494\n",
       "Wrong Tag              125\n",
       "Wrong Range and tag     53\n",
       "Name: 10, dtype: int64"
      ]
     },
     "metadata": {},
     "execution_count": 14
    }
   ]
  },
  {
   "cell_type": "code",
   "source": [
    "labels_withPct = [f'{l}, {float(s) * 100 / (sum(value)):0.1f}%' for l, s in zip(name, value)]\n",
    "labels_withPct"
   ],
   "metadata": {
    "id": "FfL_LVtbmPnX"
   },
   "execution_count": null,
   "outputs": []
  },
  {
   "cell_type": "code",
   "source": [
    "import matplotlib.patches\n",
    "\n",
    "labels = name.values.tolist()\n",
    "plt.gca().axis(\"equal\")\n",
    "pie = plt.pie(list(value), startangle=90, wedgeprops={'linewidth': 1, \"edgecolor\": \"k\"},\n",
    "              colors=[colors_error_types[key] for key in labels])\n",
    "handles = []\n",
    "\n",
    "for i, l in enumerate(labels):\n",
    "    handles.append(matplotlib.patches.Patch(color=plt.cm.Set3((i) / 8.), label=l))\n",
    "plt.legend(labels_withPct, bbox_to_anchor=(1, 0), loc=\"lower right\",\n",
    "           bbox_transform=plt.gcf().transFigure)\n",
    "#plt.gcf().text(0.93,0.04,\"* out of competition since 2006\", ha=\"right\")\n",
    "#plt.title(\"Error percentage of No_extraction of PHOBERT\",loc=\"center\",fontsize=17)\n",
    "plt.subplots_adjust(left=0.1, bottom=0.1, right=0.54)\n",
    "plt.savefig('all_error.png', bbox_inches='tight', dpi=300, transparent=True)"
   ],
   "metadata": {
    "id": "EeI_lcgTmPnX"
   },
   "execution_count": null,
   "outputs": []
  },
  {
   "cell_type": "markdown",
   "source": [
    "##No Extraction"
   ],
   "metadata": {
    "id": "LpQWm0XnmPnX"
   }
  },
  {
   "cell_type": "code",
   "source": [
    "df_noex = df_final_bi[[\"Tag\", \"No Extraction\"]]\n",
    "df_noex"
   ],
   "metadata": {
    "id": "EZsitdqzmPnY"
   },
   "execution_count": null,
   "outputs": []
  },
  {
   "cell_type": "code",
   "source": [
    "df_noex.sort_values(\"No Extraction\", ascending=False, inplace=True, ignore_index=True)\n",
    "no_ex_sum = df_noex.iloc[0, -1]\n",
    "df_noex.drop(0, inplace=True)"
   ],
   "metadata": {
    "id": "09LqWRFKmPnY"
   },
   "execution_count": null,
   "outputs": []
  },
  {
   "cell_type": "code",
   "source": [
    "labelsWithPct = [f'{l}, {s * 100 / (no_ex_sum):0.1f}%' for l, s in zip(df_noex[\"Tag\"], df_noex[\"No Extraction\"])]\n",
    "labelsWithPct"
   ],
   "metadata": {
    "id": "U0gh_l3hmPnY"
   },
   "execution_count": null,
   "outputs": []
  },
  {
   "cell_type": "code",
   "source": [
    "import matplotlib.patches\n",
    "\n",
    "plt.gca().axis(\"equal\")\n",
    "\n",
    "temp_labels = df_noex['Tag'].values.tolist()\n",
    "pie = plt.pie(df_noex[\"No Extraction\"], startangle=90, wedgeprops={'linewidth': 1, \"edgecolor\": \"k\"}, colors=[colors[key] for key in temp_labels])\n",
    "handles = []\n",
    "\n",
    "for i, l in enumerate(labels):\n",
    "    handles.append(matplotlib.patches.Patch(color=plt.cm.Set3((i) / 8.), label=l))\n",
    "plt.legend(labelsWithPct, bbox_to_anchor=(1, 0), loc=\"lower right\",\n",
    "           bbox_transform=plt.gcf().transFigure)\n",
    "#plt.gcf().text(0.93,0.04,\"* out of competition since 2006\", ha=\"right\")\n",
    "#plt.title(\"Error percentage of No_extraction of PHOBERT\",loc=\"center\",fontsize=17)\n",
    "plt.subplots_adjust(left=0.1, bottom=0.1, right=0.54)\n",
    "plt.savefig('no_extract.png', bbox_inches='tight', dpi=300)"
   ],
   "metadata": {
    "id": "IzoRElwLmPnY"
   },
   "execution_count": null,
   "outputs": []
  },
  {
   "cell_type": "code",
   "source": [],
   "metadata": {
    "id": "N6k9pFkSmPnY"
   },
   "execution_count": null,
   "outputs": []
  },
  {
   "cell_type": "markdown",
   "source": [
    "##Wrong Tag"
   ],
   "metadata": {
    "id": "82X4vRL-mPnZ"
   }
  },
  {
   "cell_type": "code",
   "source": [
    "df_wrongtag = df_final_bi[[\"Tag\", \"Wrong Tag\"]]\n",
    "df_wrongtag"
   ],
   "metadata": {
    "id": "Dpu3YSlJmPnZ"
   },
   "execution_count": null,
   "outputs": []
  },
  {
   "cell_type": "code",
   "source": [
    "df_wrongtag.sort_values(\"Wrong Tag\", ascending=False, inplace=True, ignore_index=True)\n",
    "wrongtag_sum = df_wrongtag.iloc[0, -1]\n",
    "df_wrongtag.drop(0, inplace=True)"
   ],
   "metadata": {
    "id": "OSMpIXa6mPnZ"
   },
   "execution_count": null,
   "outputs": []
  },
  {
   "cell_type": "code",
   "source": [
    "df_wrongtag"
   ],
   "metadata": {
    "id": "kODQNOjzmPnZ"
   },
   "execution_count": null,
   "outputs": []
  },
  {
   "cell_type": "code",
   "source": [
    "labels = [f'{l}, {s * 100 / (wrongtag_sum):0.1f}%' for l, s in zip(df_wrongtag[\"Tag\"], df_wrongtag[\"Wrong Tag\"])]"
   ],
   "metadata": {
    "id": "kwDuk5GamPnZ"
   },
   "execution_count": null,
   "outputs": []
  },
  {
   "cell_type": "code",
   "source": [
    "labels"
   ],
   "metadata": {
    "id": "pwRzCsSmmPna"
   },
   "execution_count": null,
   "outputs": []
  },
  {
   "cell_type": "code",
   "source": [
    "import matplotlib.patches\n",
    "\n",
    "plt.gca().axis(\"equal\")\n",
    "\n",
    "temp_labels = df_wrongtag['Tag'].values.tolist()\n",
    "pie = plt.pie(df_wrongtag.iloc[:, -1], startangle=90, wedgeprops={'linewidth': 1, \"edgecolor\": \"k\"}, colors=[colors[key] for key in temp_labels])\n",
    "handles = []\n",
    "\n",
    "for i, l in enumerate(labels):\n",
    "    handles.append(matplotlib.patches.Patch(color=plt.cm.Set3((i) / 8.), label=l))\n",
    "plt.legend(labels, bbox_to_anchor=(1, 0), loc=\"lower right\",\n",
    "           bbox_transform=plt.gcf().transFigure)\n",
    "#plt.gcf().text(0.93,0.04,\"* out of competition since 2006\", ha=\"right\")\n",
    "#plt.title(\"Error percentage of No_extraction of PHOBERT\",loc=\"center\",fontsize=17)\n",
    "plt.subplots_adjust(left=0.1, bottom=0.1, right=0.54)\n",
    "plt.savefig('wrongtag.png', bbox_inches='tight', dpi=300)"
   ],
   "metadata": {
    "id": "-O9HKy9KmPna"
   },
   "execution_count": null,
   "outputs": []
  },
  {
   "cell_type": "markdown",
   "source": [
    "##Wrong Range"
   ],
   "metadata": {
    "id": "Aa6XnQnnmPna"
   }
  },
  {
   "cell_type": "code",
   "source": [
    "df_wrongrange = df_final_bi[[\"Tag\", \"Wrong Range\"]]\n",
    "df_wrongrange"
   ],
   "metadata": {
    "id": "FHRRfpJymPna"
   },
   "execution_count": null,
   "outputs": []
  },
  {
   "cell_type": "code",
   "source": [
    "df_wrongrange.sort_values(\"Wrong Range\", ascending=False, inplace=True, ignore_index=True)\n",
    "wrongrange_sum = df_wrongrange.iloc[0, -1]\n",
    "df_wrongrange.drop(0, inplace=True)"
   ],
   "metadata": {
    "id": "8YlOlYormPnd"
   },
   "execution_count": null,
   "outputs": []
  },
  {
   "cell_type": "code",
   "source": [
    "df_wrongrange"
   ],
   "metadata": {
    "id": "z28JbxcCmPnd"
   },
   "execution_count": null,
   "outputs": []
  },
  {
   "cell_type": "code",
   "source": [
    "labels = [f'{l}, {s * 100 / (wrongrange_sum):0.1f}%' for l, s in zip(df_wrongrange[\"Tag\"], df_wrongrange[\"Wrong Range\"])]"
   ],
   "metadata": {
    "id": "M0muYO8XmPnd"
   },
   "execution_count": null,
   "outputs": []
  },
  {
   "cell_type": "code",
   "source": [
    "labels"
   ],
   "metadata": {
    "id": "hebdc1tNmPnd"
   },
   "execution_count": null,
   "outputs": []
  },
  {
   "cell_type": "code",
   "source": [
    "import matplotlib.patches\n",
    "\n",
    "plt.gca().axis(\"equal\")\n",
    "temp_labels = df_wrongrange['Tag'].values.tolist()\n",
    "pie = plt.pie(df_wrongrange.iloc[:, -1], startangle=90, wedgeprops={'linewidth': 1, \"edgecolor\": \"k\"}, colors=[colors[key] for key in temp_labels])\n",
    "handles = []\n",
    "\n",
    "for i, l in enumerate(labels):\n",
    "    handles.append(matplotlib.patches.Patch(color=plt.cm.Set3((i) / 8.), label=l))\n",
    "plt.legend(labels, bbox_to_anchor=(1, 0), loc=\"lower right\",\n",
    "           bbox_transform=plt.gcf().transFigure)\n",
    "#plt.gcf().text(0.93,0.04,\"* out of competition since 2006\", ha=\"right\")\n",
    "#plt.title(\"Error percentage of No_extraction of PHOBERT\",loc=\"center\",fontsize=17)\n",
    "plt.subplots_adjust(left=0.1, bottom=0.1, right=0.54)\n",
    "plt.savefig('wrongrange.png', bbox_inches='tight', dpi=300)"
   ],
   "metadata": {
    "id": "eNnpBQicmPnd"
   },
   "execution_count": null,
   "outputs": []
  },
  {
   "cell_type": "markdown",
   "source": [
    "##Wrong Range and tag"
   ],
   "metadata": {
    "id": "SX8efYEpmPne"
   }
  },
  {
   "cell_type": "code",
   "source": [
    "df_wrongrange_tag = df_final_bi[[\"Tag\", \"Wrong Range and tag\"]]\n",
    "df_wrongrange_tag"
   ],
   "metadata": {
    "id": "F-D9h_NkmPne"
   },
   "execution_count": null,
   "outputs": []
  },
  {
   "cell_type": "code",
   "source": [
    "df_wrongrange_tag.sort_values(\"Wrong Range and tag\", ascending=False, inplace=True, ignore_index=True)\n",
    "wrongrange_tag_sum = df_wrongrange_tag.iloc[0, -1]\n",
    "df_wrongrange_tag.drop(0, inplace=True)"
   ],
   "metadata": {
    "id": "yoUdcHnsmPne"
   },
   "execution_count": null,
   "outputs": []
  },
  {
   "cell_type": "code",
   "source": [
    "df_wrongrange_tag"
   ],
   "metadata": {
    "id": "mH929BDsmPne"
   },
   "execution_count": null,
   "outputs": []
  },
  {
   "cell_type": "code",
   "source": [
    "labels = [f'{l}, {s * 100 / (wrongrange_tag_sum):0.1f}%' for l, s in zip(df_wrongrange_tag[\"Tag\"], df_wrongrange_tag[\"Wrong Range and tag\"])]"
   ],
   "metadata": {
    "id": "Es4nsqMOmPnf"
   },
   "execution_count": null,
   "outputs": []
  },
  {
   "cell_type": "code",
   "source": [
    "labels"
   ],
   "metadata": {
    "id": "Kcd3V1ehmPnf"
   },
   "execution_count": null,
   "outputs": []
  },
  {
   "cell_type": "code",
   "source": [
    "import matplotlib.patches\n",
    "\n",
    "plt.gca().axis(\"equal\")\n",
    "temp_labels = df_wrongrange_tag['Tag'].values.tolist()\n",
    "pie = plt.pie(df_wrongrange_tag.iloc[:, -1], startangle=90, wedgeprops={'linewidth': 1, \"edgecolor\": \"k\"}, colors=[colors[key] for key in temp_labels])\n",
    "handles = []\n",
    "\n",
    "for i, l in enumerate(labels):\n",
    "    handles.append(matplotlib.patches.Patch(color=plt.cm.Set3((i) / 8.), label=l))\n",
    "plt.legend(labels, bbox_to_anchor=(1, 0), loc=\"lower right\",\n",
    "           bbox_transform=plt.gcf().transFigure)\n",
    "#plt.gcf().text(0.93,0.04,\"* out of competition since 2006\", ha=\"right\")\n",
    "#plt.title(\"Error percentage of No_extraction of PHOBERT\",loc=\"center\",fontsize=17)\n",
    "plt.subplots_adjust(left=0.1, bottom=0.1, right=0.54)\n",
    "plt.savefig('wrongrange_tag.png', bbox_inches='tight', dpi=300)"
   ],
   "metadata": {
    "id": "h2iPdGA5mPnf"
   },
   "execution_count": null,
   "outputs": []
  },
  {
   "cell_type": "code",
   "source": [
    "df_error = pd.read_excel(\"/content/df_error_types_phobert_gold.xlsx\")\n",
    "df_error"
   ],
   "metadata": {
    "id": "LVcNCig3K1V-"
   },
   "execution_count": null,
   "outputs": []
  },
  {
   "cell_type": "markdown",
   "source": [
    "# Visualize các câu"
   ],
   "metadata": {
    "id": "1-6gRMRDQu27"
   }
  },
  {
   "cell_type": "code",
   "source": [
    "TRUE_PATH = '/content/PhoNER_COVID19_Error_Analysis/Model results/test_true_phobert.txt'\n",
    "PREDICTION_PATH = '/content/PhoNER_COVID19_Error_Analysis/Model results/test_predictions_phobert.txt'\n",
    "ERROR_TYPE_DF_PATH = '/content/PhoNER_COVID19_Error_Analysis/Output/df_error_types_phobert_gold.csv'"
   ],
   "metadata": {
    "id": "iDlTfrJ-3RSR"
   },
   "execution_count": null,
   "outputs": []
  },
  {
   "cell_type": "code",
   "source": [
    "% % capture\n",
    "!git clone https: // github.com / quangdaist123 / PhoNER_COVID19_Error_Analysis.git\n",
    "!pip install git+https: // github.com / noc-lab / simple_sentence_segment.git\n",
    "!pip install nltk\n",
    "import nltk\n",
    "import re\n",
    "from spacy import displacy\n",
    "from IPython.core.display import display, HTML\n",
    "from pathlib import Path\n",
    "from PhoNER_COVID19_Error_Analysis.utils import *\n",
    "\n",
    "colors = {\n",
    "        'DATE': '#EA2F86',  # https://www.schemecolor.com/bright-rainbow-gradient.php\n",
    "        'GENDER': '#F09C0A',\n",
    "        'JOB': '#FAE000',\n",
    "        'LOCATION': '#93E223',\n",
    "        'NAME': '#4070D3',\n",
    "        'AGE': '#9925be',\n",
    "        'O': '#7B7D70',  # màu gray ở https://www.schemecolor.com/rural-stay.php\n",
    "        'ORGANIZATION': '#493C9E',\n",
    "        'PATIENT_ID': '#ED3D07',  # màu đỏ https://www.schemecolor.com/bright-summer-beach.php\n",
    "        'SYMPTOM_AND_DISEASE': '#F2E8D8',  # https://www.schemecolor.com/pastels-for-men.php\n",
    "        'TRANSPORTATION': '#C4A69B'}\n",
    "\n",
    "import ast\n",
    "import pandas as pd\n",
    "\n",
    "sentences_true, labels = load_dataset(TRUE_PATH, concatenate_words=True)\n",
    "all_tokens_true, all_labels_true, all_spans_true = get_tokens_labels_spans(sentences_true, labels)\n",
    "sentences_pred, labels_pred = load_dataset(PREDICTION_PATH)\n",
    "all_tokens_pred, all_labels_pred, all_spans_pred = get_tokens_labels_spans(sentences_pred, labels_pred)"
   ],
   "metadata": {
    "id": "Z559G6N23MOF"
   },
   "execution_count": null,
   "outputs": []
  },
  {
   "cell_type": "code",
   "source": [
    "errors = ['No Extraction', 'Wrong Tag', 'Wrong Range', 'Wrong Range and tag', 'No Annotation']\n",
    "PICK_AN_ERROR = 'No Extraction'\n",
    "PICK_A_GOLD_TAG = 'ORGANIZATION'  # Set to None to view all tags\n",
    "\n",
    "selected_indexes = get_indexes_of_filtered_errors(ERROR_TYPE_DF_PATH, PICK_AN_ERROR, PICK_A_GOLD_TAG)\n",
    "\n",
    "for i in range(len(all_tokens_true)):\n",
    "    if i not in selected_indexes:\n",
    "        continue\n",
    "\n",
    "    print('\\n-------------------------------------------------------\\n')\n",
    "    ent = build_display_elements(all_tokens_true[i], all_labels_true[i], all_spans_true[i])\n",
    "    svg = displacy.render({'text': sentences_true[i], 'ents': ent, 'title': ''}, style='ent', manual=True,\n",
    "                          options={'colors': colors})\n",
    "    display(HTML(svg))\n",
    "\n",
    "    ent = build_display_elements(all_tokens_pred[i], all_labels_pred[i], all_spans_pred[i])\n",
    "\n",
    "    svg = displacy.render({'text': sentences_pred[i], 'ents': ent, 'title': ''}, style='ent', manual=True,\n",
    "                          options={'colors': colors})\n",
    "    display(HTML(svg))"
   ],
   "metadata": {
    "id": "iZUVZpmt4MXl"
   },
   "execution_count": null,
   "outputs": []
  },
  {
   "cell_type": "code",
   "source": [
    "# Xuất file có đường dẫn là TRUE_PATH\n",
    "TITLE = 'Các câu và nhãn trên tập train'\n",
    "\n",
    "output_path = Path(\"sentence.html\")\n",
    "output_path.open(\"a+\", encoding=\"utf-8\").write(f'<p style=\"text-align:center; font-weight: bolder; font-size: x-large;\" >{title}</p>')\n",
    "\n",
    "for i in range(len(all_tokens_true)):\n",
    "    ent = build_display_elements(all_tokens_true[i], all_labels_true[i], all_spans_true[i])\n",
    "    ent_inp = {\n",
    "            'text': sentences_true[i],\n",
    "            'ents': ent,\n",
    "            'title': ''\n",
    "    }\n",
    "    svg = displacy.render(ent_inp, style='ent', manual=True, options={'colors': colors})\n",
    "    output_path.open(\"a+\", encoding=\"utf-8\").write(f'<br><strong>Index {i}: </strong>')\n",
    "    output_path.open(\"a+\", encoding=\"utf-8\").write(svg)\n",
    "    # break "
   ],
   "metadata": {
    "id": "OCJfCt9FfVJa"
   },
   "execution_count": null,
   "outputs": []
  }
 ]
}